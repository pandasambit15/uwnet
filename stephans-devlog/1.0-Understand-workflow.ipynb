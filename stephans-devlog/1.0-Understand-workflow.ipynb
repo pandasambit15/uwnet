{
 "cells": [
  {
   "cell_type": "code",
   "execution_count": 1,
   "metadata": {},
   "outputs": [],
   "source": [
    "import xarray as xr\n",
    "import matplotlib.pyplot as plt\n",
    "%matplotlib inline\n",
    "from IPython.core.display import Image \n"
   ]
  },
  {
   "cell_type": "markdown",
   "metadata": {},
   "source": [
    "# Check out coarse grained dataset"
   ]
  },
  {
   "cell_type": "code",
   "execution_count": 2,
   "metadata": {},
   "outputs": [],
   "source": [
    "SAM_DIR = '/local/S.Rasp/SAM/'"
   ]
  },
  {
   "cell_type": "code",
   "execution_count": 57,
   "metadata": {},
   "outputs": [
    {
     "name": "stdout",
     "output_type": "stream",
     "text": [
      "2018-12-15-longitude-slice-ngaqua.nc  data\n"
     ]
    }
   ],
   "source": [
    "!ls $SAM_DIR"
   ]
  },
  {
   "cell_type": "code",
   "execution_count": 153,
   "metadata": {},
   "outputs": [],
   "source": [
    "ngaqua = xr.open_dataset(f'{SAM_DIR}2018-12-15-longitude-slice-ngaqua.nc')"
   ]
  },
  {
   "cell_type": "code",
   "execution_count": 32,
   "metadata": {},
   "outputs": [
    {
     "data": {
      "text/plain": [
       "<xarray.Dataset>\n",
       "Dimensions:     (step: 2, time: 640, x: 5, y: 64, z: 34)\n",
       "Coordinates:\n",
       "  * step        (step) float64 0.0 0.003471\n",
       "  * time        (time) float64 100.6 100.8 100.9 101.0 ... 180.2 180.4 180.5\n",
       "  * x           (x) float32 0.0 160000.0 320000.0 480000.0 640000.0\n",
       "  * y           (y) float32 0.0 160000.0 320000.0 ... 9920000.0 10080000.0\n",
       "  * z           (z) float32 37.0 112.0 194.0 288.0 ... 24000.0 25500.0 27000.0\n",
       "Data variables:\n",
       "    FQT         (time, z, y, x) float64 ...\n",
       "    FSLI        (time, z, y, x) float64 ...\n",
       "    FU          (time, z, y, x) float64 ...\n",
       "    FV          (time, z, y, x) float64 ...\n",
       "    LHF         (time, y, x) float32 ...\n",
       "    PP          (time, step, z, y, x) float32 ...\n",
       "    Prec        (time, y, x) float32 ...\n",
       "    QT          (time, step, z, y, x) float32 ...\n",
       "    QV          (time, step, z, y, x) float32 ...\n",
       "    RADSFC      (time, y, x) float32 ...\n",
       "    RADTOA      (time, y, x) float32 ...\n",
       "    SHF         (time, y, x) float32 ...\n",
       "    SLI         (time, step, z, y, x) float32 ...\n",
       "    SOLIN       (time, y, x) float32 ...\n",
       "    SST         (time, y, x) float32 ...\n",
       "    TABS        (time, step, z, y, x) float32 ...\n",
       "    U           (time, step, z, y, x) float32 ...\n",
       "    V           (time, step, z, y, x) float32 ...\n",
       "    W           (time, step, z, y, x) float32 ...\n",
       "    layer_mass  (z) float64 ...\n",
       "    p           (time, step, z) float32 ...\n",
       "    rho         (z) float32 ...\n",
       "Attributes:\n",
       "    sam_namelist:              {\"parameters\": {\"cem\": true, \"day0\": 100.625, ...\n",
       "    history:                   Sun Nov  4 16:37:20 2018: ncrcat -o data/sam_p...\n",
       "    nco_openmp_thread_number:  1\n",
       "    nco_input_file_number:     640\n",
       "    nco_input_file_list:       data/tmp/0.nc data/tmp/1.nc data/tmp/2.nc data...\n",
       "    NCO:                       4.7.2"
      ]
     },
     "execution_count": 32,
     "metadata": {},
     "output_type": "execute_result"
    }
   ],
   "source": [
    "ngaqua"
   ]
  },
  {
   "cell_type": "code",
   "execution_count": 87,
   "metadata": {},
   "outputs": [
    {
     "data": {
      "text/plain": [
       "<xarray.DataArray 'FQT' (time: 640, z: 34, y: 64, x: 5)>\n",
       "[6963200 values with dtype=float64]\n",
       "Coordinates:\n",
       "  * time     (time) float64 100.6 100.8 100.9 101.0 ... 180.1 180.2 180.4 180.5\n",
       "  * x        (x) float32 0.0 160000.0 320000.0 480000.0 640000.0\n",
       "  * y        (y) float32 0.0 160000.0 320000.0 ... 9920000.0 10080000.0\n",
       "  * z        (z) float32 37.0 112.0 194.0 288.0 ... 24000.0 25500.0 27000.0"
      ]
     },
     "execution_count": 87,
     "metadata": {},
     "output_type": "execute_result"
    }
   ],
   "source": [
    "ngaqua.FQT"
   ]
  },
  {
   "cell_type": "markdown",
   "metadata": {},
   "source": [
    "So this is the data only for a small lon band.\n",
    "\n",
    "What is the step dimension?"
   ]
  },
  {
   "cell_type": "code",
   "execution_count": 42,
   "metadata": {},
   "outputs": [
    {
     "data": {
      "text/plain": [
       "<xarray.DataArray 'step' (step: 2)>\n",
       "array([0.      , 0.003471])\n",
       "Coordinates:\n",
       "  * step     (step) float64 0.0 0.003471"
      ]
     },
     "execution_count": 42,
     "metadata": {},
     "output_type": "execute_result"
    }
   ],
   "source": [
    "ngaqua.step"
   ]
  },
  {
   "cell_type": "code",
   "execution_count": 43,
   "metadata": {},
   "outputs": [
    {
     "data": {
      "text/plain": [
       "<xarray.DataArray 'time' (time: 640)>\n",
       "array([100.625, 100.75 , 100.875, ..., 180.25 , 180.375, 180.5  ])\n",
       "Coordinates:\n",
       "  * time     (time) float64 100.6 100.8 100.9 101.0 ... 180.1 180.2 180.4 180.5\n",
       "Attributes:\n",
       "    units:      day\n",
       "    long_name:  time"
      ]
     },
     "execution_count": 43,
     "metadata": {},
     "output_type": "execute_result"
    }
   ],
   "source": [
    "ngaqua.time"
   ]
  },
  {
   "cell_type": "code",
   "execution_count": 49,
   "metadata": {},
   "outputs": [
    {
     "data": {
      "text/plain": [
       "<xarray.DataArray 'time' ()>\n",
       "array(3.)"
      ]
     },
     "execution_count": 49,
     "metadata": {},
     "output_type": "execute_result"
    }
   ],
   "source": [
    "(ngaqua.time[1] - ngaqua.time[0]) * 24"
   ]
  },
  {
   "cell_type": "markdown",
   "metadata": {},
   "source": [
    "3 hour time step"
   ]
  },
  {
   "cell_type": "code",
   "execution_count": 41,
   "metadata": {},
   "outputs": [
    {
     "data": {
      "image/png": "[encoded data removed]",
      "text/plain": [
       "<Figure size 144x576 with 2 Axes>"
      ]
     },
     "metadata": {
      "needs_background": "light"
     },
     "output_type": "display_data"
    }
   ],
   "source": [
    "fig, ax = plt.subplots(figsize=(2, 8))\n",
    "ngaqua.Prec.isel(time=0).plot()\n",
    "ax.set_aspect('equal')"
   ]
  },
  {
   "cell_type": "code",
   "execution_count": 50,
   "metadata": {},
   "outputs": [
    {
     "data": {
      "text/plain": [
       "<xarray.DataArray 'TABS' (time: 640, step: 2, z: 34, y: 64, x: 5)>\n",
       "[13926400 values with dtype=float32]\n",
       "Coordinates:\n",
       "  * step     (step) float64 0.0 0.003471\n",
       "  * time     (time) float64 100.6 100.8 100.9 101.0 ... 180.1 180.2 180.4 180.5\n",
       "  * x        (x) float32 0.0 160000.0 320000.0 480000.0 640000.0\n",
       "  * y        (y) float32 0.0 160000.0 320000.0 ... 9920000.0 10080000.0\n",
       "  * z        (z) float32 37.0 112.0 194.0 288.0 ... 24000.0 25500.0 27000.0\n",
       "Attributes:\n",
       "    long_name:  Absolute Temperature                                         ...\n",
       "    units:      K         "
      ]
     },
     "execution_count": 50,
     "metadata": {},
     "output_type": "execute_result"
    }
   ],
   "source": [
    "ngaqua.TABS"
   ]
  },
  {
   "cell_type": "code",
   "execution_count": 52,
   "metadata": {},
   "outputs": [
    {
     "data": {
      "text/plain": [
       "<matplotlib.collections.QuadMesh at 0x7fe199b27198>"
      ]
     },
     "execution_count": 52,
     "metadata": {},
     "output_type": "execute_result"
    },
    {
     "data": {
      "image/png": "[encoded data removed]",
      "text/plain": [
       "<Figure size 432x288 with 2 Axes>"
      ]
     },
     "metadata": {
      "needs_background": "light"
     },
     "output_type": "display_data"
    }
   ],
   "source": [
    "ngaqua.TABS.isel(time=0, step=0, x=0).plot()"
   ]
  },
  {
   "cell_type": "code",
   "execution_count": 85,
   "metadata": {},
   "outputs": [
    {
     "data": {
      "text/plain": [
       "<xarray.DataArray 'layer_mass' (z: 34)>\n",
       "array([ 86.566012,  90.701598, 100.983623, 114.418828, 130.860987, 151.768469,\n",
       "       177.874832, 214.019979, 259.020474, 311.358271, 470.192171, 674.260484,\n",
       "       800.774346, 867.55019 , 846.902241, 749.825819, 639.200421, 542.420514,\n",
       "       458.779984, 389.100308, 331.800119, 283.28459 , 237.871595, 196.316207,\n",
       "       163.931019, 138.339044, 117.487621, 111.07365 , 106.365534, 101.351754,\n",
       "        86.951131,  66.738334,  51.53255 ,  40.504639])\n",
       "Coordinates:\n",
       "  * z        (z) float32 37.0 112.0 194.0 288.0 ... 24000.0 25500.0 27000.0\n",
       "Attributes:\n",
       "    units:    kg/m2"
      ]
     },
     "execution_count": 85,
     "metadata": {},
     "output_type": "execute_result"
    }
   ],
   "source": [
    "ngaqua.layer_mass"
   ]
  },
  {
   "cell_type": "markdown",
   "metadata": {},
   "source": [
    "In this file there are only absolute variables, no tendencies. So what is he actually learning?"
   ]
  },
  {
   "cell_type": "markdown",
   "metadata": {},
   "source": [
    "# Try a NN workflow"
   ]
  },
  {
   "cell_type": "code",
   "execution_count": 53,
   "metadata": {},
   "outputs": [
    {
     "data": {
      "text/plain": [
       "'/home/s/S.Rasp/repositories/uwnet/stephans-devlog'"
      ]
     },
     "execution_count": 53,
     "metadata": {},
     "output_type": "execute_result"
    }
   ],
   "source": [
    "%pwd"
   ]
  },
  {
   "cell_type": "code",
   "execution_count": 54,
   "metadata": {},
   "outputs": [
    {
     "name": "stdout",
     "output_type": "stream",
     "text": [
      "/home/s/S.Rasp/repositories/uwnet\n"
     ]
    }
   ],
   "source": [
    "%cd .."
   ]
  },
  {
   "cell_type": "code",
   "execution_count": 66,
   "metadata": {},
   "outputs": [
    {
     "name": "stdout",
     "output_type": "stream",
     "text": [
      "WARNING - Q1 - No observers have been added to this run\n",
      "INFO - Q1 - Running command 'main'\n",
      "INFO - Q1 - Started\n",
      "INFO - uwnet.pre_post - Building preprocessing module\n",
      "INFO - uwnet.pre_post - Flattening xarray Dataset to pandas DataFrame\n",
      "INFO - uwnet.pre_post - Size: 0.058987932 GB\n",
      "INFO - uwnet.pre_post - Fitting PCA for QT\n",
      "INFO - uwnet.pre_post - Fitting PCA for SLI\n",
      "INFO - uwnet.pre_post - Fitting Scaler for SHF\n",
      "/home/s/S.Rasp/miniconda3/envs/uwnet/lib/python3.6/site-packages/sklearn/preprocessing/data.py:625: DataConversionWarning: Data with input dtype float32 were all converted to float64 by StandardScaler.\n",
      "  return self.partial_fit(X, y)\n",
      "INFO - uwnet.pre_post - Fitting Scaler for LHF\n",
      "/home/s/S.Rasp/miniconda3/envs/uwnet/lib/python3.6/site-packages/sklearn/preprocessing/data.py:625: DataConversionWarning: Data with input dtype float32 were all converted to float64 by StandardScaler.\n",
      "  return self.partial_fit(X, y)\n",
      "INFO - uwnet.pre_post - Fitting Scaler for SOLIN\n",
      "/home/s/S.Rasp/miniconda3/envs/uwnet/lib/python3.6/site-packages/sklearn/preprocessing/data.py:625: DataConversionWarning: Data with input dtype float32 were all converted to float64 by StandardScaler.\n",
      "  return self.partial_fit(X, y)\n",
      "INFO - uwnet.pre_post - Fitting Scaler for SST\n",
      "/home/s/S.Rasp/miniconda3/envs/uwnet/lib/python3.6/site-packages/sklearn/preprocessing/data.py:625: DataConversionWarning: Data with input dtype float32 were all converted to float64 by StandardScaler.\n",
      "  return self.partial_fit(X, y)\n",
      "INFO - uwnet.pre_post - Fitting PCA models for outputs\n",
      "INFO - uwnet.pre_post - Flattening xarray Dataset to pandas DataFrame\n",
      "INFO - uwnet.pre_post - Size: 0.111242644 GB\n",
      "INFO - ignite.engine.engine.Engine - Engine run starting with max_epochs=2\n",
      "INFO - __main__ - [1/2]:\tQ1/Q2: 2.43\tequilibrium: 9.48\teig1: 0.12\teig2: -0.17\ttotal: 3.38\t\n",
      "INFO - __main__ - [2/2]:\tQ1/Q2: 2.19\tequilibrium: 10.45\teig1: 0.23\teig2: -0.10\ttotal: 3.24\t\n",
      "INFO - ignite.engine.engine.Engine - Epoch[1] Complete. Time taken: 00:00:06\n",
      "INFO - __main__ - Saving outputs in /local/S.Rasp/tmp/\n",
      "INFO - root - Saving to q2_1-32.png\n",
      "INFO - root - Saving to scatter_fqt_q2_1-32.png\n",
      "INFO - __main__ - [0/2]:\tQ1/Q2: 2.35\tequilibrium: 7.00\teig1: 0.22\teig2: -0.19\ttotal: 3.05\t\n",
      "INFO - __main__ - [1/2]:\tQ1/Q2: 2.30\tequilibrium: 6.34\teig1: 0.16\teig2: -0.13\ttotal: 2.94\t\n",
      "INFO - ignite.engine.engine.Engine - Epoch[2] Complete. Time taken: 00:00:05\n",
      "INFO - __main__ - Saving outputs in /local/S.Rasp/tmp/\n",
      "INFO - root - Saving to q2_2-32.png\n",
      "INFO - root - Saving to scatter_fqt_q2_2-32.png\n",
      "INFO - ignite.engine.engine.Engine - Engine run complete. Time taken 00:00:15\n",
      "INFO - Q1 - Completed after 0:00:24\n"
     ]
    }
   ],
   "source": [
    "!python -m uwnet.train with data=/local/S.Rasp/SAM/2018-12-15-longitude-slice-ngaqua.nc \\\n",
    "output_dir=/local/S.Rasp/tmp/"
   ]
  },
  {
   "cell_type": "markdown",
   "metadata": {},
   "source": [
    "Ok, so that worked right out of the box. I would love to know what is actually happening here though. Let's go through this step by step."
   ]
  },
  {
   "cell_type": "code",
   "execution_count": 68,
   "metadata": {},
   "outputs": [
    {
     "name": "stdout",
     "output_type": "stream",
     "text": [
      "1-imbalance.png  2-imbalance.png  q2_1-32.png  scatter_fqt_q2_1-32.png\n",
      "1.pkl\t\t 2.pkl\t\t  q2_2-32.png  scatter_fqt_q2_2-32.png\n"
     ]
    }
   ],
   "source": [
    "!ls /local/S.Rasp/tmp/"
   ]
  },
  {
   "cell_type": "code",
   "execution_count": 75,
   "metadata": {},
   "outputs": [
    {
     "data": {
      "image/png": "[encoded data removed]",
      "text/plain": [
       "<IPython.core.display.Image object>"
      ]
     },
     "execution_count": 75,
     "metadata": {},
     "output_type": "execute_result"
    }
   ],
   "source": [
    "Image(filename='/local/S.Rasp/tmp/1-imbalance.png')   # 2-imbalance.png is the same"
   ]
  },
  {
   "cell_type": "code",
   "execution_count": 73,
   "metadata": {},
   "outputs": [
    {
     "data": {
      "image/png": "[encoded data removed]",
      "text/plain": [
       "<IPython.core.display.Image object>"
      ]
     },
     "execution_count": 73,
     "metadata": {},
     "output_type": "execute_result"
    }
   ],
   "source": [
    "Image(filename='/local/S.Rasp/tmp/q2_1-32.png')"
   ]
  },
  {
   "cell_type": "code",
   "execution_count": 74,
   "metadata": {},
   "outputs": [
    {
     "data": {
      "image/png": "[encoded data removed]",
      "text/plain": [
       "<IPython.core.display.Image object>"
      ]
     },
     "execution_count": 74,
     "metadata": {},
     "output_type": "execute_result"
    }
   ],
   "source": [
    "Image(filename='/local/S.Rasp/tmp/q2_2-32.png')"
   ]
  },
  {
   "cell_type": "code",
   "execution_count": 76,
   "metadata": {},
   "outputs": [
    {
     "data": {
      "image/png": "[encoded data removed]",
      "text/plain": [
       "<IPython.core.display.Image object>"
      ]
     },
     "execution_count": 76,
     "metadata": {},
     "output_type": "execute_result"
    }
   ],
   "source": [
    "Image(filename='/local/S.Rasp/tmp/scatter_fqt_q2_1-32.png')"
   ]
  },
  {
   "cell_type": "code",
   "execution_count": 77,
   "metadata": {},
   "outputs": [
    {
     "data": {
      "image/png": "[encoded data removed]",
      "text/plain": [
       "<IPython.core.display.Image object>"
      ]
     },
     "execution_count": 77,
     "metadata": {},
     "output_type": "execute_result"
    }
   ],
   "source": [
    "Image(filename='/local/S.Rasp/tmp/scatter_fqt_q2_2-32.png')"
   ]
  },
  {
   "cell_type": "markdown",
   "metadata": {},
   "source": [
    "# Ok, what is actually going on here?"
   ]
  },
  {
   "cell_type": "code",
   "execution_count": 78,
   "metadata": {},
   "outputs": [],
   "source": [
    "import pdb"
   ]
  },
  {
   "cell_type": "code",
   "execution_count": 81,
   "metadata": {},
   "outputs": [
    {
     "name": "stdout",
     "output_type": "stream",
     "text": [
      "> <string>(1)<module>()->None\n"
     ]
    },
    {
     "name": "stdin",
     "output_type": "stream",
     "text": [
      "(Pdb)  n\n"
     ]
    },
    {
     "name": "stdout",
     "output_type": "stream",
     "text": [
      "NameError: name 'uwnet' is not defined\n",
      "> <string>(1)<module>()->None\n",
      "--KeyboardInterrupt--\n"
     ]
    },
    {
     "name": "stdin",
     "output_type": "stream",
     "text": [
      "(Pdb)  q\n"
     ]
    }
   ],
   "source": [
    "pdb.run('uwnet/train.py')"
   ]
  },
  {
   "cell_type": "code",
   "execution_count": 84,
   "metadata": {},
   "outputs": [
    {
     "name": "stdout",
     "output_type": "stream",
     "text": [
      "Error: uwnet.train does not exist\n"
     ]
    }
   ],
   "source": [
    "!python -m pdb uwnet.train"
   ]
  },
  {
   "cell_type": "markdown",
   "metadata": {},
   "source": [
    "Here is what happens:\n",
    "\n",
    "```\n",
    "in my_train.py:\n",
    "\n",
    "Trainer().train()\n",
    "\n",
    "in __init__.py:\n",
    "\n",
    "def __init__(self, _run, lr, loss_scale):\n",
    "    # setup logging\n",
    "    logging.basicConfig(level=logging.INFO)\n",
    "\n",
    "    # db = MongoDBLogger()\n",
    "    # experiment = Experiment(api_key=\"fEusCnWmzAtmrB0FbucyEggW2\")\n",
    "    self.logger = logging.getLogger(__name__)\n",
    "\n",
    "    # get output directory\n",
    "    self.output_dir = get_output_dir()\n",
    "\n",
    "    self.dataset = get_dataset()\n",
    "    \n",
    "        def get_dataset(data):\n",
    "            try:\n",
    "                dataset = xr.open_zarr(data)\n",
    "            except ValueError:\n",
    "                dataset = xr.open_dataset(data)  <--- This one!\n",
    "\n",
    "            try:\n",
    "                return dataset.isel(step=0).drop('step').drop('p')  <-- This one\n",
    "            except:\n",
    "                return dataset\n",
    "    \n",
    "    \n",
    "    self.mass = torch.tensor(self.dataset.layer_mass.values).view(\n",
    "        -1, 1, 1).float()\n",
    "    self.z = torch.tensor(self.dataset.z.values).float()\n",
    "    self.time_step = get_timestep(self.dataset)\n",
    "    \n",
    "        def get_timestep(data):\n",
    "            time_dim = 'time'\n",
    "            time = data[time_dim]\n",
    "            dt = np.diff(time)\n",
    "\n",
    "            all_equal = dt.std() / dt.mean() < 1e-6\n",
    "            if not all_equal:\n",
    "                raise ValueError(\"Data must be uniformly sampled in time\")\n",
    "\n",
    "            if time.units.startswith('d'):\n",
    "                return dt[0] * 86400 <--- this one\n",
    "            elif time.units.startswith('s'):\n",
    "                return dt[0]\n",
    "            else:\n",
    "                raise ValueError(\n",
    "                    f\"Units of time are {time.units}, but must be either seconds\"\n",
    "                    \"or days\")\n",
    "                    \n",
    "\n",
    "    self.train_loader = get_data_loader(self.dataset)\n",
    "    \n",
    "        def get_data_loader(data: xr.Dataset, x, y, time_sl, vertical_grid_size,\n",
    "                    batch_size):\n",
    "            ds = data.isel(\n",
    "                z=slice(0, vertical_grid_size),  <-- select all levs, xs and ys. Set at top in Sacred config!\n",
    "                y=slice(*y),  \n",
    "                x=slice(*x),\n",
    "                time=slice(*time_sl))\n",
    "\n",
    "\n",
    "            train_data = XRTimeSeries(ds)   # This is now in datasets.py, see below\n",
    "            return DataLoader(\n",
    "                train_data, batch_size=batch_size, shuffle=True)  # This is a Pytorch class\n",
    "        \n",
    "\n",
    "    self.model = get_model(*get_pre_post(self.dataset))\n",
    "    \n",
    "        def get_pre_post(data, _config):  <-- What is this? Probably worth looking into all these files\n",
    "            kind = _config['kind']\n",
    "\n",
    "            if kind == 'pca':  <-- THIS ONE\n",
    "                return get_pre(data, m=20), get_post(data, m=20)\n",
    "                \n",
    "                    def get_post(data, m=20):\n",
    "                        logger.info(\"Fitting PCA models for outputs\")\n",
    "                        q1 = compute_apparent_source(data.SLI, data.FSLI * 86400).dropna('time') --< Needs to drop beginning or end or something\n",
    "                            <--- data.SLI = Liquid/Ice static energy\n",
    "                            <--- FSLI = Forcing, but what is that?\n",
    "                            \n",
    "                            def compute_apparent_source(prog, forcing):\n",
    "                                dt = prog.time[1] - prog.time[0]\n",
    "                                avg_forcing = (forcing + forcing.shift(time=-1))/2\n",
    "                                return (prog.shift(time=-1) - prog)/dt - avg_forcing\n",
    "                                \n",
    "                            \n",
    "                        q2 = compute_apparent_source(data.QT, data.FQT * 86400).dropna('time')\n",
    "\n",
    "                        ds = xr.Dataset({'Q1': q1, 'Q2': q2})\n",
    "                        df = prepare_data(ds, exog=['Q1', 'Q2'])   <-- convert to pandas as in inps\n",
    "\n",
    "                        funcs = {\n",
    "                            'SLI': fit_pca_inverse_transform(df['Q1'], m),\n",
    "                            'QT': fit_pca_inverse_transform(df['Q2'], m),\n",
    "                        }\n",
    "\n",
    "                        return MapByKey(funcs)\n",
    "                \n",
    "                    def get_pre(data, m=20):\n",
    "                        logger.info(\"Building preprocessing module\")\n",
    "                        keys = ['QT', 'SLI', 'SHF', 'LHF', 'SOLIN', 'SST']  <-- What!? Inps are hardcoded?\n",
    "                        df = prepare_data(data, exog=keys)  <-- This is now a pd.Dataframe n_samples x N_stacked_levs\n",
    "                        \n",
    "                            def prepare_data(data, exog=['QT', 'SLI', 'SST', 'SOLIN'], sample=None):\n",
    "                                \"\"\"Flatten XArray dataset into dataframe.\n",
    "\n",
    "                                The columns of the dataframe are the variables names and height indices.\n",
    "                                The rows are the samples, which are taken along 'x', 'y', and 'time'.\n",
    "                                \"\"\"\n",
    "                                logger.info(\"Flattening xarray Dataset to pandas DataFrame\")\n",
    "                                size = data[exog].nbytes/1e9\n",
    "                                logger.info(f\"Size: {size} GB\")\n",
    "                                vals = []\n",
    "                                names = []\n",
    "                                sample_dims = ['x', 'y', 'time']\n",
    "                                for key in exog:\n",
    "                                    val = data[key].stack(s=sample_dims)\n",
    "                                    if 'z' not in val.dims:\n",
    "                                        val = val.expand_dims('z')\n",
    "\n",
    "                                    arr = val.transpose('s', 'z').values\n",
    "                                    vals.append(arr)\n",
    "\n",
    "                                    for z in range(arr.shape[1]):\n",
    "                                        names.append((key, z))\n",
    "\n",
    "                                inputs = np.concatenate(vals, axis=1)\n",
    "                                idx = pd.MultiIndex.from_tuples(names)\n",
    "                                return pd.DataFrame(inputs, columns=idx)\n",
    "                            \n",
    "                        transformers = {}\n",
    "                        for key in keys:\n",
    "                            x = df[key]\n",
    "                            n = x.shape[1]\n",
    "\n",
    "                            if n == 1:  <-- for nz = 1 vars\n",
    "                                logger.info(f\"Fitting Scaler for {key}\")\n",
    "                                transformers[key] = fit_scaler_transform(x) <-- Use sklearn.StandardScaler()\n",
    "                            else:   <-- This is for lev vars\n",
    "                                logger.info(f\"Fitting PCA for {key}\")\n",
    "                                transformers[key] = fit_pca_transform(x, m)\n",
    "                                \n",
    "                                def fit_pca_transform(x, n=16):  <-- x df with n_sample x n_lev\n",
    "                                    pca = PCA(n_components=n, whiten=True) <-- sklearn PCA\n",
    "                                    pca.fit(x)\n",
    "                                    return LinearFixed.from_affine(pca.transform, x.shape[1])\n",
    "                                    \n",
    "                                        class LinearFixed(nn.Module):\n",
    "                                            \"\"\"A linear tranform with fixed weights and bias\n",
    "\n",
    "                                            Useful for representing scikit-learn affine transform functions\n",
    "                                            \"\"\"\n",
    "                                            \n",
    "                                            @classmethod\n",
    "                                            def from_affine(cls, func, n):\n",
    "                                                \"\"\"Initialize from an arbitrary python function\n",
    "\n",
    "                                                Parameters\n",
    "                                                ----------\n",
    "                                                func\n",
    "                                                    function has input dimension n and output dimension m\n",
    "                                                n : int\n",
    "                                                    input dimensions\n",
    "                                                \"\"\"\n",
    "                                                args = get_affine_transforms(func, n)  <-- args[0].shape = (34, 20)\n",
    "                                                   <-- args[1].shape = (34, 20)\n",
    "                                                \n",
    "                                                    def get_affine_transforms(func, n):\n",
    "                                                        \"\"\"Get weights matrix and bias of an affine function\n",
    "\n",
    "                                                        func(I) = A + b\n",
    "                                                        func(0) = b\n",
    "\n",
    "                                                        \"\"\"\n",
    "                                                        identity = np.eye(n)\n",
    "                                                        z = np.zeros((1, n))\n",
    "\n",
    "                                                        b = func(z)\n",
    "                                                        A = func(identity) - b\n",
    "                                                        return A, b\n",
    "                                                        \n",
    "                                                        \n",
    "                                                args = [torch.tensor(arg, requires_grad=True) for arg in args]\n",
    "                                                   <-- convert to torch tensor, probably used later for online PCA\n",
    "                                                return cls(*args)\n",
    "\n",
    "                        return MapByKey(transformers)\n",
    "                \n",
    "                \n",
    "            elif kind == 'orig':\n",
    "                return get_pre_post_orig(data, *args)\n",
    "            elif kind == 'mix':\n",
    "                pre = get_pre(data, m=20)\n",
    "                _ , post= get_pre_post_orig(data, *args)\n",
    "                return pre, post\n",
    "            elif kind == 'saved':\n",
    "                path = _config['path']\n",
    "                logger.info(f\"Loading pre/post module from {path}\")\n",
    "                return torch.load(path)\n",
    "            elif kind == 'lower_atmos':\n",
    "                pre, post = get_pre_post_orig(data, n=34)\n",
    "                lower = LowerAtmosInput()\n",
    "                pre = Sequential(pre, lower)\n",
    "                return pre, post\n",
    "                \n",
    "         def get_model(pre, post, _config):\n",
    "            \"\"\"Create an MLP with scaled inputs and outputs\n",
    "            \"\"\"\n",
    "            kind = _config['kind']\n",
    "\n",
    "            if kind == 'inner_model':  <-- This one\n",
    "                return InnerModel(pre, post).to(dtype=torch.float)\n",
    "                \n",
    "                    class InnerModel(nn.Module, XRCallMixin):\n",
    "                        \"\"\"Inner model which operates with height along the last dimension\"\"\"\n",
    "\n",
    "                        def __init__(self, pre, post):\n",
    "                            \"docstring\"\n",
    "                            super(InnerModel, self).__init__()\n",
    "\n",
    "                            n = 256\n",
    "                            transpose = um.ValMap(um.RPartial(torch.transpose, -3, -1))\n",
    "                            self.input_names = [name for name, _ in pre.inputs]\n",
    "                            self.model = nn.Sequential(\n",
    "                                transpose,\n",
    "                                pre,\n",
    "                                um.LinearDictIn([(name, num) for name, num in pre.outputs], n),\n",
    "                                nn.ReLU(),\n",
    "                                nn.Linear(n, n),\n",
    "                                nn.ReLU(),\n",
    "                                nn.Linear(n, n),\n",
    "                                nn.ReLU(),\n",
    "                                um.LinearDictOut(n, [(name, num) for name, num in post.inputs]),\n",
    "                                post,\n",
    "                                transpose\n",
    "                            )\n",
    "\n",
    "    def forward(self, x):\n",
    "        return self.model(x[self.input_names])\n",
    "            elif kind == 'causal':\n",
    "                inner = get_causal_inner_model(pre)\n",
    "\n",
    "            self.optimizer = torch.optim.Adam(self.model.parameters(), lr=lr)\n",
    "            self.criterion = weighted_mean_squared_error(\n",
    "                weights=self.mass / self.mass.mean(), dim=-3)\n",
    "            self.plot_manager = TrainingPlotManager(ex, self.model, self.dataset)\n",
    "            self.setup_engine()\n",
    "\n",
    "\n",
    "\n",
    "class XRTimeSeries(Dataset):\n",
    "    \"\"\"A pytorch Dataset class for time series data in xarray format\n",
    "\n",
    "    This function assumes the data has dimensions ['time', 'z', 'y', 'x'], and\n",
    "    that the axes of the data arrays are all stored in that order.\n",
    "\n",
    "    An individual \"sample\" is the full time time series from a single\n",
    "    horizontal location. The time-varying variables in this sample will have\n",
    "    shape (time, z, 1, 1).\n",
    "\n",
    "    Examples\n",
    "    --------\n",
    "    >>> ds = xr.open_dataset(\"in.nc\")\n",
    "    >>> dataset = XRTimeSeries(ds)\n",
    "    >>> dataset[0]\n",
    "\n",
    "    \"\"\"\n",
    "    dims = ['time', 'z', 'x', 'y']\n",
    "\n",
    "    def __init__(self, data, time_length=None):\n",
    "        \"\"\"\n",
    "        Parameters\n",
    "        ----------\n",
    "        data : xr.DataArray\n",
    "            An input dataset. This dataset must contain at least some variables\n",
    "            with all of the dimensions ['time' , 'z', 'x', 'y'].\n",
    "        time_length : int, optional\n",
    "            The length of the time sequences to use, must evenly divide the\n",
    "            total number of time points.\n",
    "        \"\"\"\n",
    "        self.time_length = time_length or len(data.time)\n",
    "        self.data = data\n",
    "        self.numpy_data = {key: data[key].values for key in data.data_vars}  <-- He reads out all the files as np!?\n",
    "        self.data_vars = set(data.data_vars)\n",
    "        self.dims = {key: data[key].dims for key in data.data_vars}\n",
    "        self.constants = {\n",
    "            key\n",
    "            for key in data.data_vars\n",
    "            if len({'x', 'y', 'time'} & set(data[key].dims)) == 0\n",
    "        }\n",
    "        self.setup_indices()\n",
    "        \n",
    "    def setup_indices(self):\n",
    "        len_x = len(self.data['x'].values)\n",
    "        len_y = len(self.data['y'].values)\n",
    "        len_t = len(self.data['time'].values)\n",
    "\n",
    "        x_iter = range(0, len_x, 1)\n",
    "        y_iter = range(0, len_y, 1)\n",
    "        t_iter = range(0, len_t, self.time_length)   <-- I don't get that. indices = sample for x and y but entire time slice\n",
    "        assert len_t % self.time_length == 0\n",
    "        self.indices = list(product(t_iter, y_iter, x_iter))\n",
    "        \n",
    "        def __getitem__(self, i):\n",
    "            t, y, x = self.indices[i]\n",
    "            output_tensors = {}\n",
    "            for key in self.data_vars:\n",
    "                if key in self.constants:\n",
    "                    continue\n",
    "\n",
    "                data_array = self.numpy_data[key]\n",
    "                if 'z' in self.dims[key]:\n",
    "                    this_array_index = (slice(t, t + self.time_length),\n",
    "                                        slice(None), y, x)\n",
    "                else:\n",
    "                    this_array_index = (slice(t, t + self.time_length), None, y, x)\n",
    "\n",
    "                sample = data_array[this_array_index][:, :, np.newaxis, np.newaxis]\n",
    "                output_tensors[key] = sample.astype(np.float32)\n",
    "            return output_tensors   <-- This is a dictionary with one \"sample\": Shape [time, lev, 1, 1]\n",
    "\n",
    "``` \n",
    "\n"
   ]
  },
  {
   "cell_type": "markdown",
   "metadata": {},
   "source": [
    "# Try to do the training in this notebook"
   ]
  },
  {
   "cell_type": "code",
   "execution_count": 8,
   "metadata": {},
   "outputs": [
    {
     "data": {
      "text/plain": [
       "'/local/S.Rasp/SAM/'"
      ]
     },
     "execution_count": 8,
     "metadata": {},
     "output_type": "execute_result"
    }
   ],
   "source": [
    "SAM_DIR"
   ]
  },
  {
   "cell_type": "code",
   "execution_count": 6,
   "metadata": {},
   "outputs": [],
   "source": [
    "\n",
    "import logging\n",
    "import os\n",
    "from contextlib import contextmanager\n",
    "from os.path import join\n",
    "\n",
    "from sacred import Experiment\n",
    "\n",
    "import torch\n",
    "import xarray as xr\n",
    "from torch.utils.data import DataLoader\n",
    "from uwnet.model import get_model\n",
    "from uwnet.pre_post import get_pre_post\n",
    "from uwnet.training_plots import TrainingPlotManager\n",
    "from uwnet.datasets import XRTimeSeries, get_timestep\n",
    "from uwnet.loss import (weighted_mean_squared_error, total_loss)\n",
    "from ignite.engine import Engine, Events\n",
    "\n",
    "# ex = Experiment(\"Q1\")\n",
    "\n",
    "# XRTimeSeries = ex.capture(XRTimeSeries)\n",
    "# TrainingPlotManager = ex.capture(TrainingPlotManager, prefix='plots')\n",
    "# get_model = ex.capture(get_model, prefix='model')\n",
    "# get_pre_post = ex.capture(get_pre_post, prefix='prepost')\n",
    "\n",
    "\n",
    "\"\"\"Default configurations managed by sacred\"\"\"\n",
    "data = \"/local/S.Rasp/SAM/2018-12-15-longitude-slice-ngaqua.nc\"\n",
    "lr = .001\n",
    "epochs = 2\n",
    "model_dir = 'models'\n",
    "skip = 5\n",
    "seq_length = 1\n",
    "batch_size = 256\n",
    "vertical_grid_size = 34\n",
    "loss_scale = {\n",
    "    'LHF': 150,\n",
    "    'SHF': 10,\n",
    "    'RADTOA': 600.0,\n",
    "    'RADSFC': 600.0,\n",
    "    'U': 5.0,\n",
    "    'V': 5.0,\n",
    "    'Prec': 8,\n",
    "    'QP': 0.05,\n",
    "    'QN': 0.05,\n",
    "    'QT': 1.0,\n",
    "    'SLI': 2.5\n",
    "}\n",
    "\n",
    "# y indices to use for training\n",
    "y = (None, None)\n",
    "x = (None, None)\n",
    "time_sl = (None, None)\n",
    "output_dir = None\n",
    "\n",
    "prognostics = ['QT', 'SLI']\n",
    "prepost = dict(\n",
    "    kind='pca',\n",
    "    path='models/prepost.pkl'\n",
    ")\n",
    "\n",
    "model = dict(\n",
    "    kind='inner_model'\n",
    ")\n",
    "\n",
    "plots = dict(\n",
    "    interval=1,\n",
    "    single_column_locations=[(32, 0)]\n",
    ")\n",
    "\n",
    "file_name='test'\n",
    "\n",
    "\n",
    "def get_dataset(data):\n",
    "    try:\n",
    "        dataset = xr.open_zarr(data)\n",
    "    except ValueError:\n",
    "        dataset = xr.open_dataset(data)\n",
    "\n",
    "    try:\n",
    "        return dataset.isel(step=0).drop('step').drop('p')\n",
    "    except:\n",
    "        return dataset\n",
    "\n",
    "\n",
    "def get_data_loader(data: xr.Dataset, x, y, time_sl, vertical_grid_size,\n",
    "                    batch_size):\n",
    "    ds = data.isel(\n",
    "        z=slice(0, vertical_grid_size),\n",
    "        y=slice(*y),\n",
    "        x=slice(*x),\n",
    "        time=slice(*time_sl))\n",
    "\n",
    "\n",
    "    train_data = XRTimeSeries(ds)\n",
    "    return DataLoader(\n",
    "        train_data, batch_size=batch_size, shuffle=True)\n",
    "\n",
    "\n",
    "def get_output_dir(model_dir=None, output_dir=None):\n",
    "    \"\"\"Get a unique output directory name using the run ID that sacred\n",
    "    assigned OR return the specified output directory\n",
    "    \"\"\"\n",
    "    if output_dir:\n",
    "        return output_dir\n",
    "    else:\n",
    "        #file_name = str(_run._id)\n",
    "        return join(model_dir, file_name)\n",
    "\n",
    "\n",
    "\n",
    "\n",
    "def is_one_dimensional(val):\n",
    "    return val.dim() == 2\n",
    "\n",
    "\n",
    "def get_model_inputs_from_batch(batch, prognostics):\n",
    "    \"\"\"Redimension a batch from a torch data loader\n",
    "\n",
    "    Torch's data loader class is very helpful, but it produces data which has a shape of (batch, feature). However, the models require input in the physical dimensions (time, z, y, x), this function reshapes these arrays.\n",
    "    \"\"\"\n",
    "    from uwnet.timestepper import Batch\n",
    "    return Batch(batch, prognostics)\n",
    "\n",
    "\n",
    "class Trainer(object):\n",
    "    \"\"\"Utility object for training a neural network parametrization\n",
    "    \"\"\"\n",
    "\n",
    "    def __init__(self, lr, loss_scale):\n",
    "        # setup logging\n",
    "        logging.basicConfig(level=logging.INFO)\n",
    "\n",
    "        # db = MongoDBLogger()\n",
    "        # experiment = Experiment(api_key=\"fEusCnWmzAtmrB0FbucyEggW2\")\n",
    "        self.logger = logging.getLogger(__name__)\n",
    "\n",
    "        # get output directory\n",
    "        self.output_dir = get_output_dir(model_dir)\n",
    "\n",
    "        self.dataset = get_dataset(data)\n",
    "        self.mass = torch.tensor(self.dataset.layer_mass.values).view(\n",
    "            -1, 1, 1).float()\n",
    "        self.z = torch.tensor(self.dataset.z.values).float()\n",
    "        self.time_step = get_timestep(self.dataset)\n",
    "        self.train_loader = get_data_loader(self.dataset, x, y, time_sl, vertical_grid_size, batch_size)\n",
    "\n",
    "        self.model = get_model(*get_pre_post(self.dataset, prepost), model)\n",
    "        self.optimizer = torch.optim.Adam(self.model.parameters(), lr=lr)\n",
    "        self.criterion = weighted_mean_squared_error(\n",
    "            weights=self.mass / self.mass.mean(), dim=-3)\n",
    "        #self.plot_manager = TrainingPlotManager(ex, self.model, self.dataset)\n",
    "        self.setup_engine()\n",
    "\n",
    "    def setup_engine(self):\n",
    "        self.engine = Engine(self.step)\n",
    "        self.engine.add_event_handler(\n",
    "            Events.ITERATION_COMPLETED, self.after_batch)\n",
    "        self.engine.add_event_handler(\n",
    "            Events.ITERATION_COMPLETED, self.print_loss_info)\n",
    "        self.engine.add_event_handler(\n",
    "            Events.EPOCH_COMPLETED, self.after_epoch)\n",
    "\n",
    "    def print_loss_info(self, engine):\n",
    "        n = len(self.train_loader)\n",
    "        batch = engine.state.iteration % (n + 1)\n",
    "        log_str = f\"[{batch}/{n}]:\\t\"\n",
    "        for key, val in engine.state.loss_info.items():\n",
    "            log_str += f'{key}: {val:.2f}\\t'\n",
    "            ex.log_scalar(key, val)\n",
    "        self.logger.info(log_str)\n",
    "\n",
    "    def step(self, engine, batch):\n",
    "        self.optimizer.zero_grad()\n",
    "        batch = get_model_inputs_from_batch(batch)\n",
    "        loss, loss_info = total_loss(\n",
    "            self.criterion, self.model, self.z, batch)\n",
    "        loss.backward()\n",
    "        self.optimizer.step()\n",
    "        self.optimizer.zero_grad()\n",
    "        engine.state.loss_info = loss_info\n",
    "        return loss_info\n",
    "\n",
    "    def compute_source_r2(self, batch):\n",
    "        from .timestepper import Batch\n",
    "        from toolz import merge_with\n",
    "        from .loss import weighted_r2_score, r2_score\n",
    "        src = self.model(batch)\n",
    "\n",
    "        # compute the apparent source\n",
    "        batch = Batch(batch, self.prognostics)\n",
    "        g = batch.get_known_forcings()\n",
    "        progs = batch.data[self.prognostics]\n",
    "        storage = progs.apply(lambda x: (x[1:] - x[:-1]) / self.time_step)\n",
    "        forcing = g.apply(lambda x: (x[1:] + x[:-1]) / 2)\n",
    "        src = src.apply(lambda x: (x[1:] + x[:-1]) / 2)\n",
    "        true_src = storage - forcing * 86400\n",
    "\n",
    "        # copmute the metrics\n",
    "        def wr2_score(args):\n",
    "            x, y = args\n",
    "            return weighted_r2_score(x, y, self.mass, dim=-3).item()\n",
    "\n",
    "        r2s = merge_with(wr2_score, true_src, src)\n",
    "        print(r2s)\n",
    "\n",
    "        # compute the r2 of the integral\n",
    "        pred_int = src.apply(lambda x: (x * self.mass).sum(-3))\n",
    "        true_int = true_src.apply(lambda x: (x * self.mass).sum(-3))\n",
    "\n",
    "        def scalar_r2_score(args):\n",
    "            return r2_score(*args).item()\n",
    "\n",
    "        def bias(args):\n",
    "            x, y = args\n",
    "            return (y.mean() - x.mean()).item() / 1000\n",
    "\n",
    "        r2s = merge_with(scalar_r2_score, true_int, pred_int)\n",
    "        print(r2s)\n",
    "\n",
    "        r2s = merge_with(bias, true_int, pred_int)\n",
    "        print(r2s)\n",
    "\n",
    "    def after_batch(self, engine):\n",
    "        state = engine.state\n",
    "        batch_info = {\n",
    "            'epoch': state.epoch,\n",
    "            'loss': state.output,\n",
    "        }\n",
    "        ex.log_scalar('loss', batch_info['loss'])\n",
    "\n",
    "    def after_epoch(self, engine):\n",
    "        # save artifacts\n",
    "        n = engine.state.epoch\n",
    "        epoch_file = f\"{n}.pkl\"\n",
    "\n",
    "        with self.change_to_work_dir():\n",
    "            torch.save(self.model, epoch_file)\n",
    "            ex.add_artifact(epoch_file)\n",
    "            self.plot_manager(engine)\n",
    "\n",
    "    def _make_work_dir(self):\n",
    "        try:\n",
    "            os.makedirs(self.output_dir)\n",
    "        except OSError:\n",
    "            pass\n",
    "\n",
    "    @contextmanager\n",
    "    def change_to_work_dir(self):\n",
    "        \"\"\"Context manager for using a working directory\"\"\"\n",
    "        self.logger.info(f\"Saving outputs in {self.output_dir}\")\n",
    "        self._make_work_dir()\n",
    "        try:\n",
    "            cwd = os.getcwd()\n",
    "            os.chdir(self.output_dir)\n",
    "            yield\n",
    "        finally:\n",
    "            os.chdir(cwd)\n",
    "\n",
    "    def train(self, epochs):\n",
    "        \"\"\"Train the neural network for a fixed number of epochs\"\"\"\n",
    "        self.engine.run(self.train_loader, max_epochs=epochs)\n",
    "\n",
    "\n",
    "def train_pre_post(prepost):\n",
    "    \"\"\"Train the pre and post processing modules\"\"\"\n",
    "    dataset = get_dataset()\n",
    "    logging.info(f\"Saving Pre/Post module to {prepost['path']}\")\n",
    "    torch.save(get_pre_post(dataset), prepost['path'])\n",
    "\n",
    "\n"
   ]
  },
  {
   "cell_type": "code",
   "execution_count": 7,
   "metadata": {},
   "outputs": [
    {
     "name": "stderr",
     "output_type": "stream",
     "text": [
      "INFO:uwnet.pre_post:Building preprocessing module\n",
      "INFO:uwnet.pre_post:Flattening xarray Dataset to pandas DataFrame\n",
      "INFO:uwnet.pre_post:Size: 0.058987932 GB\n",
      "INFO:uwnet.pre_post:Fitting PCA for QT\n",
      "INFO:uwnet.pre_post:Fitting PCA for SLI\n",
      "INFO:uwnet.pre_post:Fitting Scaler for SHF\n",
      "/home/s/S.Rasp/miniconda3/envs/uwnet/lib/python3.6/site-packages/sklearn/preprocessing/data.py:625: DataConversionWarning: Data with input dtype float32 were all converted to float64 by StandardScaler.\n",
      "  return self.partial_fit(X, y)\n",
      "INFO:uwnet.pre_post:Fitting Scaler for LHF\n",
      "/home/s/S.Rasp/miniconda3/envs/uwnet/lib/python3.6/site-packages/sklearn/preprocessing/data.py:625: DataConversionWarning: Data with input dtype float32 were all converted to float64 by StandardScaler.\n",
      "  return self.partial_fit(X, y)\n",
      "INFO:uwnet.pre_post:Fitting Scaler for SOLIN\n",
      "/home/s/S.Rasp/miniconda3/envs/uwnet/lib/python3.6/site-packages/sklearn/preprocessing/data.py:625: DataConversionWarning: Data with input dtype float32 were all converted to float64 by StandardScaler.\n",
      "  return self.partial_fit(X, y)\n",
      "INFO:uwnet.pre_post:Fitting Scaler for SST\n",
      "/home/s/S.Rasp/miniconda3/envs/uwnet/lib/python3.6/site-packages/sklearn/preprocessing/data.py:625: DataConversionWarning: Data with input dtype float32 were all converted to float64 by StandardScaler.\n",
      "  return self.partial_fit(X, y)\n",
      "INFO:uwnet.pre_post:Fitting PCA models for outputs\n",
      "INFO:uwnet.pre_post:Flattening xarray Dataset to pandas DataFrame\n",
      "INFO:uwnet.pre_post:Size: 0.111242644 GB\n"
     ]
    }
   ],
   "source": [
    "trn = Trainer(lr=lr, loss_scale=loss_scale)"
   ]
  },
  {
   "cell_type": "code",
   "execution_count": 98,
   "metadata": {},
   "outputs": [],
   "source": [
    "dl = trn.train_loader"
   ]
  },
  {
   "cell_type": "code",
   "execution_count": 99,
   "metadata": {},
   "outputs": [],
   "source": [
    "out = next(iter(dl))"
   ]
  },
  {
   "cell_type": "code",
   "execution_count": 100,
   "metadata": {},
   "outputs": [
    {
     "data": {
      "text/plain": [
       "(dict,\n",
       " dict_keys(['LHF', 'FV', 'QV', 'QT', 'W', 'FU', 'SOLIN', 'FQT', 'RADTOA', 'V', 'SHF', 'U', 'RADSFC', 'Prec', 'PP', 'SLI', 'TABS', 'SST', 'FSLI']))"
      ]
     },
     "execution_count": 100,
     "metadata": {},
     "output_type": "execute_result"
    }
   ],
   "source": [
    "type(out), out.keys()"
   ]
  },
  {
   "cell_type": "code",
   "execution_count": 101,
   "metadata": {},
   "outputs": [
    {
     "data": {
      "text/plain": [
       "torch.Size([256, 640, 34, 1, 1])"
      ]
     },
     "execution_count": 101,
     "metadata": {},
     "output_type": "execute_result"
    }
   ],
   "source": [
    "out['QT'].size()"
   ]
  },
  {
   "cell_type": "code",
   "execution_count": 102,
   "metadata": {},
   "outputs": [],
   "source": [
    "m = trn.model"
   ]
  },
  {
   "cell_type": "code",
   "execution_count": 103,
   "metadata": {},
   "outputs": [
    {
     "data": {
      "text/plain": [
       "InnerModel(\n",
       "  (model): Sequential(\n",
       "    (0): ValMap(\n",
       "      (fun): RPartial()\n",
       "    )\n",
       "    (1): MapByKey(\n",
       "      (funcs): ModuleDict(\n",
       "        (LHF): LinearFixed(1, 1)\n",
       "        (QT): LinearFixed(34, 20)\n",
       "        (SHF): LinearFixed(1, 1)\n",
       "        (SLI): LinearFixed(34, 20)\n",
       "        (SOLIN): LinearFixed(1, 1)\n",
       "        (SST): LinearFixed(1, 1)\n",
       "      )\n",
       "    )\n",
       "    (2): LinearDictIn(\n",
       "      (LHF): Linear(in_features=1, out_features=256, bias=True)\n",
       "      (QT): Linear(in_features=20, out_features=256, bias=True)\n",
       "      (SHF): Linear(in_features=1, out_features=256, bias=True)\n",
       "      (SLI): Linear(in_features=20, out_features=256, bias=True)\n",
       "      (SOLIN): Linear(in_features=1, out_features=256, bias=True)\n",
       "      (SST): Linear(in_features=1, out_features=256, bias=True)\n",
       "    )\n",
       "    (3): ReLU()\n",
       "    (4): Linear(in_features=256, out_features=256, bias=True)\n",
       "    (5): ReLU()\n",
       "    (6): Linear(in_features=256, out_features=256, bias=True)\n",
       "    (7): ReLU()\n",
       "    (8): LinearDictOut(\n",
       "      (QT): Linear(in_features=256, out_features=20, bias=True)\n",
       "      (SLI): Linear(in_features=256, out_features=20, bias=True)\n",
       "    )\n",
       "    (9): MapByKey(\n",
       "      (funcs): ModuleDict(\n",
       "        (QT): LinearFixed(20, 34)\n",
       "        (SLI): LinearFixed(20, 34)\n",
       "      )\n",
       "    )\n",
       "    (10): ValMap(\n",
       "      (fun): RPartial()\n",
       "    )\n",
       "  )\n",
       ")"
      ]
     },
     "execution_count": 103,
     "metadata": {},
     "output_type": "execute_result"
    }
   ],
   "source": [
    "m"
   ]
  },
  {
   "cell_type": "code",
   "execution_count": 104,
   "metadata": {},
   "outputs": [],
   "source": [
    "pre = m.model[1]"
   ]
  },
  {
   "cell_type": "code",
   "execution_count": 105,
   "metadata": {},
   "outputs": [],
   "source": [
    "input_names = [name for name, _ in pre.inputs]"
   ]
  },
  {
   "cell_type": "code",
   "execution_count": 106,
   "metadata": {},
   "outputs": [
    {
     "data": {
      "text/plain": [
       "['LHF', 'QT', 'SHF', 'SLI', 'SOLIN', 'SST']"
      ]
     },
     "execution_count": 106,
     "metadata": {},
     "output_type": "execute_result"
    }
   ],
   "source": [
    "input_names"
   ]
  },
  {
   "cell_type": "code",
   "execution_count": 107,
   "metadata": {},
   "outputs": [
    {
     "data": {
      "text/plain": [
       "['QT', 'SLI']"
      ]
     },
     "execution_count": 107,
     "metadata": {},
     "output_type": "execute_result"
    }
   ],
   "source": [
    "prognostics"
   ]
  },
  {
   "cell_type": "code",
   "execution_count": 108,
   "metadata": {},
   "outputs": [],
   "source": [
    "batch = get_model_inputs_from_batch(out, prognostics)"
   ]
  },
  {
   "cell_type": "code",
   "execution_count": 109,
   "metadata": {},
   "outputs": [
    {
     "data": {
      "text/plain": [
       "torch.Size([256, 640, 34, 1, 1])"
      ]
     },
     "execution_count": 109,
     "metadata": {},
     "output_type": "execute_result"
    }
   ],
   "source": [
    "batch.data['QT'].size()"
   ]
  },
  {
   "cell_type": "code",
   "execution_count": 110,
   "metadata": {},
   "outputs": [],
   "source": [
    "m_in = batch.data[input_names]"
   ]
  },
  {
   "cell_type": "code",
   "execution_count": 111,
   "metadata": {},
   "outputs": [],
   "source": [
    "pred = m(m_in)"
   ]
  },
  {
   "cell_type": "code",
   "execution_count": 112,
   "metadata": {},
   "outputs": [],
   "source": [
    "layers = [l for l in m.model]"
   ]
  },
  {
   "cell_type": "code",
   "execution_count": 113,
   "metadata": {},
   "outputs": [
    {
     "data": {
      "text/plain": [
       "[ValMap(\n",
       "   (fun): RPartial()\n",
       " ), MapByKey(\n",
       "   (funcs): ModuleDict(\n",
       "     (LHF): LinearFixed(1, 1)\n",
       "     (QT): LinearFixed(34, 20)\n",
       "     (SHF): LinearFixed(1, 1)\n",
       "     (SLI): LinearFixed(34, 20)\n",
       "     (SOLIN): LinearFixed(1, 1)\n",
       "     (SST): LinearFixed(1, 1)\n",
       "   )\n",
       " ), LinearDictIn(\n",
       "   (LHF): Linear(in_features=1, out_features=256, bias=True)\n",
       "   (QT): Linear(in_features=20, out_features=256, bias=True)\n",
       "   (SHF): Linear(in_features=1, out_features=256, bias=True)\n",
       "   (SLI): Linear(in_features=20, out_features=256, bias=True)\n",
       "   (SOLIN): Linear(in_features=1, out_features=256, bias=True)\n",
       "   (SST): Linear(in_features=1, out_features=256, bias=True)\n",
       " ), ReLU(), Linear(in_features=256, out_features=256, bias=True), ReLU(), Linear(in_features=256, out_features=256, bias=True), ReLU(), LinearDictOut(\n",
       "   (QT): Linear(in_features=256, out_features=20, bias=True)\n",
       "   (SLI): Linear(in_features=256, out_features=20, bias=True)\n",
       " ), MapByKey(\n",
       "   (funcs): ModuleDict(\n",
       "     (QT): LinearFixed(20, 34)\n",
       "     (SLI): LinearFixed(20, 34)\n",
       "   )\n",
       " ), ValMap(\n",
       "   (fun): RPartial()\n",
       " )]"
      ]
     },
     "execution_count": 113,
     "metadata": {},
     "output_type": "execute_result"
    }
   ],
   "source": [
    "layers"
   ]
  },
  {
   "cell_type": "code",
   "execution_count": 151,
   "metadata": {},
   "outputs": [
    {
     "data": {
      "text/plain": [
       "ValMap(\n",
       "  (fun): RPartial()\n",
       ")"
      ]
     },
     "execution_count": 151,
     "metadata": {},
     "output_type": "execute_result"
    }
   ],
   "source": [
    "layers[0]"
   ]
  },
  {
   "cell_type": "code",
   "execution_count": 114,
   "metadata": {},
   "outputs": [],
   "source": [
    "tmp = layers[0](m_in)"
   ]
  },
  {
   "cell_type": "code",
   "execution_count": 115,
   "metadata": {},
   "outputs": [
    {
     "data": {
      "text/plain": [
       "(dict_keys(['LHF', 'QT', 'SHF', 'SLI', 'SOLIN', 'SST']),\n",
       " torch.Size([256, 640, 1, 1, 34]))"
      ]
     },
     "execution_count": 115,
     "metadata": {},
     "output_type": "execute_result"
    }
   ],
   "source": [
    "tmp.data.keys(), tmp.data['QT'].size()"
   ]
  },
  {
   "cell_type": "code",
   "execution_count": 116,
   "metadata": {},
   "outputs": [
    {
     "data": {
      "text/plain": [
       "MapByKey(\n",
       "  (funcs): ModuleDict(\n",
       "    (LHF): LinearFixed(1, 1)\n",
       "    (QT): LinearFixed(34, 20)\n",
       "    (SHF): LinearFixed(1, 1)\n",
       "    (SLI): LinearFixed(34, 20)\n",
       "    (SOLIN): LinearFixed(1, 1)\n",
       "    (SST): LinearFixed(1, 1)\n",
       "  )\n",
       ")"
      ]
     },
     "execution_count": 116,
     "metadata": {},
     "output_type": "execute_result"
    }
   ],
   "source": [
    "layers[1]"
   ]
  },
  {
   "cell_type": "code",
   "execution_count": 117,
   "metadata": {},
   "outputs": [],
   "source": [
    "tmp = layers[1](tmp)"
   ]
  },
  {
   "cell_type": "code",
   "execution_count": 118,
   "metadata": {},
   "outputs": [
    {
     "data": {
      "text/plain": [
       "(dict_keys(['LHF', 'QT', 'SHF', 'SLI', 'SOLIN', 'SST']),\n",
       " torch.Size([256, 640, 1, 1, 20]))"
      ]
     },
     "execution_count": 118,
     "metadata": {},
     "output_type": "execute_result"
    }
   ],
   "source": [
    "tmp.data.keys(), tmp.data['QT'].size()"
   ]
  },
  {
   "cell_type": "code",
   "execution_count": 120,
   "metadata": {},
   "outputs": [
    {
     "data": {
      "text/plain": [
       "LinearDictIn(\n",
       "  (LHF): Linear(in_features=1, out_features=256, bias=True)\n",
       "  (QT): Linear(in_features=20, out_features=256, bias=True)\n",
       "  (SHF): Linear(in_features=1, out_features=256, bias=True)\n",
       "  (SLI): Linear(in_features=20, out_features=256, bias=True)\n",
       "  (SOLIN): Linear(in_features=1, out_features=256, bias=True)\n",
       "  (SST): Linear(in_features=1, out_features=256, bias=True)\n",
       ")"
      ]
     },
     "execution_count": 120,
     "metadata": {},
     "output_type": "execute_result"
    }
   ],
   "source": [
    "layers[2]"
   ]
  },
  {
   "cell_type": "markdown",
   "metadata": {},
   "source": [
    "Linear dict in does a fully connected to 256 for all then adds them together!"
   ]
  },
  {
   "cell_type": "code",
   "execution_count": 121,
   "metadata": {},
   "outputs": [],
   "source": [
    "tmp = layers[2](tmp)"
   ]
  },
  {
   "cell_type": "code",
   "execution_count": 122,
   "metadata": {},
   "outputs": [
    {
     "data": {
      "text/plain": [
       "torch.Size([256, 640, 1, 1, 256])"
      ]
     },
     "execution_count": 122,
     "metadata": {},
     "output_type": "execute_result"
    }
   ],
   "source": [
    "tmp.size()"
   ]
  },
  {
   "cell_type": "code",
   "execution_count": 123,
   "metadata": {},
   "outputs": [
    {
     "data": {
      "text/plain": [
       "ReLU()"
      ]
     },
     "execution_count": 123,
     "metadata": {},
     "output_type": "execute_result"
    }
   ],
   "source": [
    "layers[3]"
   ]
  },
  {
   "cell_type": "code",
   "execution_count": 124,
   "metadata": {},
   "outputs": [],
   "source": [
    "tmp = layers[3](tmp)"
   ]
  },
  {
   "cell_type": "code",
   "execution_count": 125,
   "metadata": {},
   "outputs": [
    {
     "data": {
      "text/plain": [
       "Linear(in_features=256, out_features=256, bias=True)"
      ]
     },
     "execution_count": 125,
     "metadata": {},
     "output_type": "execute_result"
    }
   ],
   "source": [
    "layers[4]"
   ]
  },
  {
   "cell_type": "code",
   "execution_count": 126,
   "metadata": {},
   "outputs": [],
   "source": [
    "tmp = layers[4](tmp)"
   ]
  },
  {
   "cell_type": "code",
   "execution_count": 127,
   "metadata": {},
   "outputs": [
    {
     "data": {
      "text/plain": [
       "ReLU()"
      ]
     },
     "execution_count": 127,
     "metadata": {},
     "output_type": "execute_result"
    }
   ],
   "source": [
    "layers[5]"
   ]
  },
  {
   "cell_type": "code",
   "execution_count": 128,
   "metadata": {},
   "outputs": [],
   "source": [
    "tmp = layers[5](tmp)"
   ]
  },
  {
   "cell_type": "code",
   "execution_count": 129,
   "metadata": {},
   "outputs": [
    {
     "data": {
      "text/plain": [
       "Linear(in_features=256, out_features=256, bias=True)"
      ]
     },
     "execution_count": 129,
     "metadata": {},
     "output_type": "execute_result"
    }
   ],
   "source": [
    "layers[6]"
   ]
  },
  {
   "cell_type": "code",
   "execution_count": 130,
   "metadata": {},
   "outputs": [],
   "source": [
    "tmp = layers[6](tmp)"
   ]
  },
  {
   "cell_type": "code",
   "execution_count": 131,
   "metadata": {},
   "outputs": [
    {
     "data": {
      "text/plain": [
       "ReLU()"
      ]
     },
     "execution_count": 131,
     "metadata": {},
     "output_type": "execute_result"
    }
   ],
   "source": [
    "layers[7]"
   ]
  },
  {
   "cell_type": "code",
   "execution_count": 135,
   "metadata": {},
   "outputs": [],
   "source": [
    "tmp = layers[7](tmp)"
   ]
  },
  {
   "cell_type": "code",
   "execution_count": 136,
   "metadata": {},
   "outputs": [
    {
     "data": {
      "text/plain": [
       "torch.Size([256, 640, 1, 1, 256])"
      ]
     },
     "execution_count": 136,
     "metadata": {},
     "output_type": "execute_result"
    }
   ],
   "source": [
    "tmp.size()"
   ]
  },
  {
   "cell_type": "code",
   "execution_count": 137,
   "metadata": {},
   "outputs": [
    {
     "data": {
      "text/plain": [
       "LinearDictOut(\n",
       "  (QT): Linear(in_features=256, out_features=20, bias=True)\n",
       "  (SLI): Linear(in_features=256, out_features=20, bias=True)\n",
       ")"
      ]
     },
     "execution_count": 137,
     "metadata": {},
     "output_type": "execute_result"
    }
   ],
   "source": [
    "layers[8]"
   ]
  },
  {
   "cell_type": "code",
   "execution_count": 139,
   "metadata": {},
   "outputs": [],
   "source": [
    "tmp = layers[8](tmp)"
   ]
  },
  {
   "cell_type": "code",
   "execution_count": 142,
   "metadata": {},
   "outputs": [
    {
     "data": {
      "text/plain": [
       "(dict_keys(['QT', 'SLI']), torch.Size([256, 640, 1, 1, 20]))"
      ]
     },
     "execution_count": 142,
     "metadata": {},
     "output_type": "execute_result"
    }
   ],
   "source": [
    "tmp.data.keys(), tmp.data['QT'].size()"
   ]
  },
  {
   "cell_type": "code",
   "execution_count": 143,
   "metadata": {},
   "outputs": [
    {
     "data": {
      "text/plain": [
       "MapByKey(\n",
       "  (funcs): ModuleDict(\n",
       "    (QT): LinearFixed(20, 34)\n",
       "    (SLI): LinearFixed(20, 34)\n",
       "  )\n",
       ")"
      ]
     },
     "execution_count": 143,
     "metadata": {},
     "output_type": "execute_result"
    }
   ],
   "source": [
    "layers[9]"
   ]
  },
  {
   "cell_type": "code",
   "execution_count": 144,
   "metadata": {},
   "outputs": [],
   "source": [
    "tmp = layers[9](tmp)"
   ]
  },
  {
   "cell_type": "code",
   "execution_count": 145,
   "metadata": {},
   "outputs": [
    {
     "data": {
      "text/plain": [
       "(dict_keys(['QT', 'SLI']), torch.Size([256, 640, 1, 1, 34]))"
      ]
     },
     "execution_count": 145,
     "metadata": {},
     "output_type": "execute_result"
    }
   ],
   "source": [
    "tmp.data.keys(), tmp.data['QT'].size()"
   ]
  },
  {
   "cell_type": "code",
   "execution_count": 146,
   "metadata": {},
   "outputs": [
    {
     "data": {
      "text/plain": [
       "ValMap(\n",
       "  (fun): RPartial()\n",
       ")"
      ]
     },
     "execution_count": 146,
     "metadata": {},
     "output_type": "execute_result"
    }
   ],
   "source": [
    "layers[10]"
   ]
  },
  {
   "cell_type": "code",
   "execution_count": 147,
   "metadata": {},
   "outputs": [],
   "source": [
    "tmp = layers[10](tmp)"
   ]
  },
  {
   "cell_type": "code",
   "execution_count": 149,
   "metadata": {},
   "outputs": [
    {
     "data": {
      "text/plain": [
       "(dict_keys(['QT', 'SLI']), torch.Size([256, 640, 34, 1, 1]))"
      ]
     },
     "execution_count": 149,
     "metadata": {},
     "output_type": "execute_result"
    }
   ],
   "source": [
    "tmp.data.keys(), tmp.data['QT'].size()"
   ]
  },
  {
   "cell_type": "code",
   "execution_count": 150,
   "metadata": {},
   "outputs": [
    {
     "ename": "IndexError",
     "evalue": "list index out of range",
     "output_type": "error",
     "traceback": [
      "\u001b[0;31m---------------------------------------------------------------------------\u001b[0m",
      "\u001b[0;31mIndexError\u001b[0m                                Traceback (most recent call last)",
      "\u001b[0;32m<ipython-input-150-ba59bce34ff2>\u001b[0m in \u001b[0;36m<module>\u001b[0;34m\u001b[0m\n\u001b[0;32m----> 1\u001b[0;31m \u001b[0mlayers\u001b[0m\u001b[0;34m[\u001b[0m\u001b[0;36m11\u001b[0m\u001b[0;34m]\u001b[0m\u001b[0;34m\u001b[0m\u001b[0;34m\u001b[0m\u001b[0m\n\u001b[0m",
      "\u001b[0;31mIndexError\u001b[0m: list index out of range"
     ]
    }
   ],
   "source": [
    "layers[11]"
   ]
  },
  {
   "cell_type": "code",
   "execution_count": null,
   "metadata": {},
   "outputs": [],
   "source": []
  },
  {
   "cell_type": "markdown",
   "metadata": {},
   "source": [
    "## Understand sklearn PCA and Standard scaler"
   ]
  },
  {
   "cell_type": "code",
   "execution_count": 183,
   "metadata": {},
   "outputs": [],
   "source": [
    "from sklearn.decomposition import PCA\n",
    "from sklearn.preprocessing import StandardScaler\n",
    "import numpy as np"
   ]
  },
  {
   "cell_type": "code",
   "execution_count": 160,
   "metadata": {},
   "outputs": [],
   "source": [
    "from uwnet.pre_post import prepare_data"
   ]
  },
  {
   "cell_type": "code",
   "execution_count": 156,
   "metadata": {},
   "outputs": [],
   "source": [
    "sample_dims = ['x', 'y', 'time']"
   ]
  },
  {
   "cell_type": "code",
   "execution_count": 163,
   "metadata": {},
   "outputs": [
    {
     "name": "stderr",
     "output_type": "stream",
     "text": [
      "INFO:uwnet.pre_post:Flattening xarray Dataset to pandas DataFrame\n",
      "INFO:uwnet.pre_post:Size: 0.058987932 GB\n"
     ]
    }
   ],
   "source": [
    "prep_data = prepare_data(ngaqua.isel(step=0).drop('step').drop('p'), exog=['QT', 'SLI', 'SHF', 'LHF', 'SOLIN', 'SST'])"
   ]
  },
  {
   "cell_type": "code",
   "execution_count": 268,
   "metadata": {},
   "outputs": [
    {
     "data": {
      "text/plain": [
       "204800"
      ]
     },
     "execution_count": 268,
     "metadata": {},
     "output_type": "execute_result"
    }
   ],
   "source": [
    "len(prep_data)"
   ]
  },
  {
   "cell_type": "markdown",
   "metadata": {},
   "source": [
    "### StandardScaler"
   ]
  },
  {
   "cell_type": "code",
   "execution_count": 166,
   "metadata": {},
   "outputs": [
    {
     "data": {
      "text/html": [
       "<div>\n",
       "<style scoped>\n",
       "    .dataframe tbody tr th:only-of-type {\n",
       "        vertical-align: middle;\n",
       "    }\n",
       "\n",
       "    .dataframe tbody tr th {\n",
       "        vertical-align: top;\n",
       "    }\n",
       "\n",
       "    .dataframe thead th {\n",
       "        text-align: right;\n",
       "    }\n",
       "</style>\n",
       "<table border=\"1\" class=\"dataframe\">\n",
       "  <thead>\n",
       "    <tr style=\"text-align: right;\">\n",
       "      <th></th>\n",
       "      <th>0</th>\n",
       "    </tr>\n",
       "  </thead>\n",
       "  <tbody>\n",
       "    <tr>\n",
       "      <th>0</th>\n",
       "      <td>37.092140</td>\n",
       "    </tr>\n",
       "    <tr>\n",
       "      <th>1</th>\n",
       "      <td>40.888325</td>\n",
       "    </tr>\n",
       "    <tr>\n",
       "      <th>2</th>\n",
       "      <td>42.016720</td>\n",
       "    </tr>\n",
       "    <tr>\n",
       "      <th>3</th>\n",
       "      <td>42.199074</td>\n",
       "    </tr>\n",
       "    <tr>\n",
       "      <th>4</th>\n",
       "      <td>38.494644</td>\n",
       "    </tr>\n",
       "  </tbody>\n",
       "</table>\n",
       "</div>"
      ],
      "text/plain": [
       "           0\n",
       "0  37.092140\n",
       "1  40.888325\n",
       "2  42.016720\n",
       "3  42.199074\n",
       "4  38.494644"
      ]
     },
     "execution_count": 166,
     "metadata": {},
     "output_type": "execute_result"
    }
   ],
   "source": [
    "tmp = prep_data['LHF']; tmp.head()"
   ]
  },
  {
   "cell_type": "code",
   "execution_count": 167,
   "metadata": {},
   "outputs": [
    {
     "name": "stderr",
     "output_type": "stream",
     "text": [
      "/home/s/S.Rasp/miniconda3/envs/uwnet/lib/python3.6/site-packages/sklearn/preprocessing/data.py:625: DataConversionWarning: Data with input dtype float32 were all converted to float64 by StandardScaler.\n",
      "  return self.partial_fit(X, y)\n"
     ]
    }
   ],
   "source": [
    "scaler = StandardScaler().fit(tmp)"
   ]
  },
  {
   "cell_type": "code",
   "execution_count": 172,
   "metadata": {},
   "outputs": [
    {
     "data": {
      "text/plain": [
       "1"
      ]
     },
     "execution_count": 172,
     "metadata": {},
     "output_type": "execute_result"
    }
   ],
   "source": [
    "tmp.shape[1]"
   ]
  },
  {
   "cell_type": "code",
   "execution_count": 173,
   "metadata": {},
   "outputs": [],
   "source": [
    "from uwnet.modules import LinearFixed, get_affine_transforms"
   ]
  },
  {
   "cell_type": "code",
   "execution_count": 174,
   "metadata": {},
   "outputs": [],
   "source": [
    "args = get_affine_transforms(scaler.transform, 1)"
   ]
  },
  {
   "cell_type": "code",
   "execution_count": 176,
   "metadata": {},
   "outputs": [
    {
     "data": {
      "text/plain": [
       "(array([[0.01668124]]), array([[-1.59480342]]))"
      ]
     },
     "execution_count": 176,
     "metadata": {},
     "output_type": "execute_result"
    }
   ],
   "source": [
    "args"
   ]
  },
  {
   "cell_type": "code",
   "execution_count": 187,
   "metadata": {},
   "outputs": [
    {
     "data": {
      "text/plain": [
       "(array([95.60459745]), array([3593.71172925]), array([59.94757484]))"
      ]
     },
     "execution_count": 187,
     "metadata": {},
     "output_type": "execute_result"
    }
   ],
   "source": [
    "scaler.mean_, scaler.var_, np.sqrt(scaler.var_)"
   ]
  },
  {
   "cell_type": "code",
   "execution_count": 188,
   "metadata": {},
   "outputs": [
    {
     "data": {
      "text/plain": [
       "(array([0.01668124]), array([1.59480342]))"
      ]
     },
     "execution_count": 188,
     "metadata": {},
     "output_type": "execute_result"
    }
   ],
   "source": [
    "1/np.sqrt(scaler.var_), scaler.mean_/np.sqrt(scaler.var_)"
   ]
  },
  {
   "cell_type": "markdown",
   "metadata": {},
   "source": [
    "### PCA"
   ]
  },
  {
   "cell_type": "code",
   "execution_count": 189,
   "metadata": {},
   "outputs": [
    {
     "data": {
      "text/html": [
       "<div>\n",
       "<style scoped>\n",
       "    .dataframe tbody tr th:only-of-type {\n",
       "        vertical-align: middle;\n",
       "    }\n",
       "\n",
       "    .dataframe tbody tr th {\n",
       "        vertical-align: top;\n",
       "    }\n",
       "\n",
       "    .dataframe thead th {\n",
       "        text-align: right;\n",
       "    }\n",
       "</style>\n",
       "<table border=\"1\" class=\"dataframe\">\n",
       "  <thead>\n",
       "    <tr style=\"text-align: right;\">\n",
       "      <th></th>\n",
       "      <th>0</th>\n",
       "      <th>1</th>\n",
       "      <th>2</th>\n",
       "      <th>3</th>\n",
       "      <th>4</th>\n",
       "      <th>5</th>\n",
       "      <th>6</th>\n",
       "      <th>7</th>\n",
       "      <th>8</th>\n",
       "      <th>9</th>\n",
       "      <th>...</th>\n",
       "      <th>24</th>\n",
       "      <th>25</th>\n",
       "      <th>26</th>\n",
       "      <th>27</th>\n",
       "      <th>28</th>\n",
       "      <th>29</th>\n",
       "      <th>30</th>\n",
       "      <th>31</th>\n",
       "      <th>32</th>\n",
       "      <th>33</th>\n",
       "    </tr>\n",
       "  </thead>\n",
       "  <tbody>\n",
       "    <tr>\n",
       "      <th>0</th>\n",
       "      <td>4.361264</td>\n",
       "      <td>4.089715</td>\n",
       "      <td>3.989790</td>\n",
       "      <td>3.890260</td>\n",
       "      <td>3.810691</td>\n",
       "      <td>3.746974</td>\n",
       "      <td>3.629813</td>\n",
       "      <td>3.375355</td>\n",
       "      <td>2.930388</td>\n",
       "      <td>2.326267</td>\n",
       "      <td>...</td>\n",
       "      <td>0.000086</td>\n",
       "      <td>0.000084</td>\n",
       "      <td>0.000081</td>\n",
       "      <td>0.000072</td>\n",
       "      <td>0.000004</td>\n",
       "      <td>0.0</td>\n",
       "      <td>0.0</td>\n",
       "      <td>0.0</td>\n",
       "      <td>0.0</td>\n",
       "      <td>0.0</td>\n",
       "    </tr>\n",
       "    <tr>\n",
       "      <th>1</th>\n",
       "      <td>4.333887</td>\n",
       "      <td>4.060319</td>\n",
       "      <td>3.962644</td>\n",
       "      <td>3.887188</td>\n",
       "      <td>3.831795</td>\n",
       "      <td>3.791692</td>\n",
       "      <td>3.724110</td>\n",
       "      <td>3.480544</td>\n",
       "      <td>2.946113</td>\n",
       "      <td>2.254538</td>\n",
       "      <td>...</td>\n",
       "      <td>0.000083</td>\n",
       "      <td>0.000081</td>\n",
       "      <td>0.000079</td>\n",
       "      <td>0.000071</td>\n",
       "      <td>0.000005</td>\n",
       "      <td>0.0</td>\n",
       "      <td>0.0</td>\n",
       "      <td>0.0</td>\n",
       "      <td>0.0</td>\n",
       "      <td>0.0</td>\n",
       "    </tr>\n",
       "    <tr>\n",
       "      <th>2</th>\n",
       "      <td>4.279087</td>\n",
       "      <td>4.029076</td>\n",
       "      <td>3.945002</td>\n",
       "      <td>3.869809</td>\n",
       "      <td>3.809435</td>\n",
       "      <td>3.762944</td>\n",
       "      <td>3.690197</td>\n",
       "      <td>3.459121</td>\n",
       "      <td>2.973407</td>\n",
       "      <td>2.100534</td>\n",
       "      <td>...</td>\n",
       "      <td>0.000082</td>\n",
       "      <td>0.000079</td>\n",
       "      <td>0.000078</td>\n",
       "      <td>0.000070</td>\n",
       "      <td>0.000005</td>\n",
       "      <td>0.0</td>\n",
       "      <td>0.0</td>\n",
       "      <td>0.0</td>\n",
       "      <td>0.0</td>\n",
       "      <td>0.0</td>\n",
       "    </tr>\n",
       "    <tr>\n",
       "      <th>3</th>\n",
       "      <td>4.343656</td>\n",
       "      <td>4.018750</td>\n",
       "      <td>3.900565</td>\n",
       "      <td>3.825108</td>\n",
       "      <td>3.764900</td>\n",
       "      <td>3.709638</td>\n",
       "      <td>3.626374</td>\n",
       "      <td>3.397383</td>\n",
       "      <td>2.960023</td>\n",
       "      <td>2.132427</td>\n",
       "      <td>...</td>\n",
       "      <td>0.000080</td>\n",
       "      <td>0.000079</td>\n",
       "      <td>0.000077</td>\n",
       "      <td>0.000069</td>\n",
       "      <td>0.000005</td>\n",
       "      <td>0.0</td>\n",
       "      <td>0.0</td>\n",
       "      <td>0.0</td>\n",
       "      <td>0.0</td>\n",
       "      <td>0.0</td>\n",
       "    </tr>\n",
       "    <tr>\n",
       "      <th>4</th>\n",
       "      <td>4.585892</td>\n",
       "      <td>4.219153</td>\n",
       "      <td>3.990348</td>\n",
       "      <td>3.816269</td>\n",
       "      <td>3.744457</td>\n",
       "      <td>3.663324</td>\n",
       "      <td>3.563959</td>\n",
       "      <td>3.367351</td>\n",
       "      <td>2.988392</td>\n",
       "      <td>2.244937</td>\n",
       "      <td>...</td>\n",
       "      <td>0.000081</td>\n",
       "      <td>0.000079</td>\n",
       "      <td>0.000077</td>\n",
       "      <td>0.000068</td>\n",
       "      <td>0.000005</td>\n",
       "      <td>0.0</td>\n",
       "      <td>0.0</td>\n",
       "      <td>0.0</td>\n",
       "      <td>0.0</td>\n",
       "      <td>0.0</td>\n",
       "    </tr>\n",
       "  </tbody>\n",
       "</table>\n",
       "<p>5 rows × 34 columns</p>\n",
       "</div>"
      ],
      "text/plain": [
       "         0         1         2         3         4         5         6   \\\n",
       "0  4.361264  4.089715  3.989790  3.890260  3.810691  3.746974  3.629813   \n",
       "1  4.333887  4.060319  3.962644  3.887188  3.831795  3.791692  3.724110   \n",
       "2  4.279087  4.029076  3.945002  3.869809  3.809435  3.762944  3.690197   \n",
       "3  4.343656  4.018750  3.900565  3.825108  3.764900  3.709638  3.626374   \n",
       "4  4.585892  4.219153  3.990348  3.816269  3.744457  3.663324  3.563959   \n",
       "\n",
       "         7         8         9  ...         24        25        26        27  \\\n",
       "0  3.375355  2.930388  2.326267 ...   0.000086  0.000084  0.000081  0.000072   \n",
       "1  3.480544  2.946113  2.254538 ...   0.000083  0.000081  0.000079  0.000071   \n",
       "2  3.459121  2.973407  2.100534 ...   0.000082  0.000079  0.000078  0.000070   \n",
       "3  3.397383  2.960023  2.132427 ...   0.000080  0.000079  0.000077  0.000069   \n",
       "4  3.367351  2.988392  2.244937 ...   0.000081  0.000079  0.000077  0.000068   \n",
       "\n",
       "         28   29   30   31   32   33  \n",
       "0  0.000004  0.0  0.0  0.0  0.0  0.0  \n",
       "1  0.000005  0.0  0.0  0.0  0.0  0.0  \n",
       "2  0.000005  0.0  0.0  0.0  0.0  0.0  \n",
       "3  0.000005  0.0  0.0  0.0  0.0  0.0  \n",
       "4  0.000005  0.0  0.0  0.0  0.0  0.0  \n",
       "\n",
       "[5 rows x 34 columns]"
      ]
     },
     "execution_count": 189,
     "metadata": {},
     "output_type": "execute_result"
    }
   ],
   "source": [
    "tmp = prep_data['QT']; tmp.head()"
   ]
  },
  {
   "cell_type": "code",
   "execution_count": 190,
   "metadata": {},
   "outputs": [
    {
     "data": {
      "text/plain": [
       "34"
      ]
     },
     "execution_count": 190,
     "metadata": {},
     "output_type": "execute_result"
    }
   ],
   "source": [
    "tmp.shape[1]"
   ]
  },
  {
   "cell_type": "code",
   "execution_count": 237,
   "metadata": {},
   "outputs": [],
   "source": [
    "pca = PCA(n_components=20, whiten=True)"
   ]
  },
  {
   "cell_type": "code",
   "execution_count": 238,
   "metadata": {},
   "outputs": [
    {
     "data": {
      "text/plain": [
       "PCA(copy=True, iterated_power='auto', n_components=20, random_state=None,\n",
       "  svd_solver='auto', tol=0.0, whiten=True)"
      ]
     },
     "execution_count": 238,
     "metadata": {},
     "output_type": "execute_result"
    }
   ],
   "source": [
    "pca.fit(tmp)"
   ]
  },
  {
   "cell_type": "code",
   "execution_count": 239,
   "metadata": {},
   "outputs": [],
   "source": [
    "reduc = pca.transform(tmp)"
   ]
  },
  {
   "cell_type": "code",
   "execution_count": 240,
   "metadata": {},
   "outputs": [
    {
     "data": {
      "text/plain": [
       "(204800, 20)"
      ]
     },
     "execution_count": 240,
     "metadata": {},
     "output_type": "execute_result"
    }
   ],
   "source": [
    "reduc.shape"
   ]
  },
  {
   "cell_type": "code",
   "execution_count": 241,
   "metadata": {},
   "outputs": [
    {
     "data": {
      "text/plain": [
       "[<matplotlib.lines.Line2D at 0x7fde903c9550>]"
      ]
     },
     "execution_count": 241,
     "metadata": {},
     "output_type": "execute_result"
    },
    {
     "data": {
      "image/png": "[encoded data removed]",
      "text/plain": [
       "<Figure size 432x288 with 1 Axes>"
      ]
     },
     "metadata": {
      "needs_background": "light"
     },
     "output_type": "display_data"
    }
   ],
   "source": [
    "plt.plot(tmp.iloc[0])\n",
    "plt.plot(tmp.iloc[-1])"
   ]
  },
  {
   "cell_type": "code",
   "execution_count": 242,
   "metadata": {},
   "outputs": [
    {
     "data": {
      "text/plain": [
       "[<matplotlib.lines.Line2D at 0x7fde90337320>]"
      ]
     },
     "execution_count": 242,
     "metadata": {},
     "output_type": "execute_result"
    },
    {
     "data": {
      "image/png": "[encoded data removed]",
      "text/plain": [
       "<Figure size 432x288 with 1 Axes>"
      ]
     },
     "metadata": {
      "needs_background": "light"
     },
     "output_type": "display_data"
    }
   ],
   "source": [
    "plt.plot(reduc[0])\n",
    "plt.plot(reduc[-1])"
   ]
  },
  {
   "cell_type": "code",
   "execution_count": 243,
   "metadata": {},
   "outputs": [
    {
     "data": {
      "text/plain": [
       "(204800, 34)"
      ]
     },
     "execution_count": 243,
     "metadata": {},
     "output_type": "execute_result"
    }
   ],
   "source": [
    "inv = pca.inverse_transform(reduc); inv.shape"
   ]
  },
  {
   "cell_type": "code",
   "execution_count": 244,
   "metadata": {},
   "outputs": [
    {
     "data": {
      "text/plain": [
       "[<matplotlib.lines.Line2D at 0x7fde905a2a20>]"
      ]
     },
     "execution_count": 244,
     "metadata": {},
     "output_type": "execute_result"
    },
    {
     "data": {
      "image/png": "[encoded data removed]",
      "text/plain": [
       "<Figure size 432x288 with 1 Axes>"
      ]
     },
     "metadata": {
      "needs_background": "light"
     },
     "output_type": "display_data"
    }
   ],
   "source": [
    "plt.plot(tmp.iloc[-1])\n",
    "plt.plot(inv[-1])"
   ]
  },
  {
   "cell_type": "code",
   "execution_count": 245,
   "metadata": {},
   "outputs": [],
   "source": [
    "args = get_affine_transforms(pca.transform, 34)"
   ]
  },
  {
   "cell_type": "code",
   "execution_count": 247,
   "metadata": {},
   "outputs": [
    {
     "data": {
      "text/plain": [
       "((34, 20), (1, 20))"
      ]
     },
     "execution_count": 247,
     "metadata": {},
     "output_type": "execute_result"
    }
   ],
   "source": [
    "args[0].shape, args[1].shape"
   ]
  },
  {
   "cell_type": "markdown",
   "metadata": {},
   "source": [
    "## What about the trasnformation for outputs"
   ]
  },
  {
   "cell_type": "code",
   "execution_count": 248,
   "metadata": {},
   "outputs": [],
   "source": [
    "from uwnet.thermo import compute_apparent_source"
   ]
  },
  {
   "cell_type": "code",
   "execution_count": 250,
   "metadata": {},
   "outputs": [
    {
     "data": {
      "text/plain": [
       "(640, 2, 34, 64, 5)"
      ]
     },
     "execution_count": 250,
     "metadata": {},
     "output_type": "execute_result"
    }
   ],
   "source": [
    "ngaqua.SLI.shape"
   ]
  },
  {
   "cell_type": "code",
   "execution_count": 256,
   "metadata": {},
   "outputs": [],
   "source": [
    "q1 = compute_apparent_source(ngaqua.SLI, ngaqua.FSLI * 86400).dropna('time')\n",
    "q2 = compute_apparent_source(ngaqua.QT, ngaqua.FQT * 86400).dropna('time')"
   ]
  },
  {
   "cell_type": "code",
   "execution_count": 259,
   "metadata": {},
   "outputs": [
    {
     "data": {
      "text/plain": [
       "((639, 2, 34, 64, 5), (639, 2, 34, 64, 5))"
      ]
     },
     "execution_count": 259,
     "metadata": {},
     "output_type": "execute_result"
    }
   ],
   "source": [
    "q1.shape, q2.shape"
   ]
  },
  {
   "cell_type": "code",
   "execution_count": 257,
   "metadata": {},
   "outputs": [],
   "source": [
    "ds = xr.Dataset({'Q1': q1, 'Q2': q2})"
   ]
  },
  {
   "cell_type": "code",
   "execution_count": 262,
   "metadata": {},
   "outputs": [
    {
     "name": "stderr",
     "output_type": "stream",
     "text": [
      "INFO:uwnet.pre_post:Flattening xarray Dataset to pandas DataFrame\n",
      "INFO:uwnet.pre_post:Size: 0.111242644 GB\n"
     ]
    }
   ],
   "source": [
    "prep_out = prepare_data(ds.isel(step=0).drop('step'), exog=['Q1', 'Q2'])"
   ]
  },
  {
   "cell_type": "code",
   "execution_count": 265,
   "metadata": {},
   "outputs": [
    {
     "data": {
      "text/html": [
       "<div>\n",
       "<style scoped>\n",
       "    .dataframe tbody tr th:only-of-type {\n",
       "        vertical-align: middle;\n",
       "    }\n",
       "\n",
       "    .dataframe tbody tr th {\n",
       "        vertical-align: top;\n",
       "    }\n",
       "\n",
       "    .dataframe thead tr th {\n",
       "        text-align: left;\n",
       "    }\n",
       "</style>\n",
       "<table border=\"1\" class=\"dataframe\">\n",
       "  <thead>\n",
       "    <tr>\n",
       "      <th></th>\n",
       "      <th colspan=\"10\" halign=\"left\">Q1</th>\n",
       "      <th>...</th>\n",
       "      <th colspan=\"10\" halign=\"left\">Q2</th>\n",
       "    </tr>\n",
       "    <tr>\n",
       "      <th></th>\n",
       "      <th>0</th>\n",
       "      <th>1</th>\n",
       "      <th>2</th>\n",
       "      <th>3</th>\n",
       "      <th>4</th>\n",
       "      <th>5</th>\n",
       "      <th>6</th>\n",
       "      <th>7</th>\n",
       "      <th>8</th>\n",
       "      <th>9</th>\n",
       "      <th>...</th>\n",
       "      <th>24</th>\n",
       "      <th>25</th>\n",
       "      <th>26</th>\n",
       "      <th>27</th>\n",
       "      <th>28</th>\n",
       "      <th>29</th>\n",
       "      <th>30</th>\n",
       "      <th>31</th>\n",
       "      <th>32</th>\n",
       "      <th>33</th>\n",
       "    </tr>\n",
       "  </thead>\n",
       "  <tbody>\n",
       "    <tr>\n",
       "      <th>0</th>\n",
       "      <td>1.248608</td>\n",
       "      <td>1.495984</td>\n",
       "      <td>1.451336</td>\n",
       "      <td>1.168046</td>\n",
       "      <td>0.570157</td>\n",
       "      <td>-0.048394</td>\n",
       "      <td>-3.044226</td>\n",
       "      <td>-4.969207</td>\n",
       "      <td>-2.731678</td>\n",
       "      <td>0.010295</td>\n",
       "      <td>...</td>\n",
       "      <td>-0.000018</td>\n",
       "      <td>-0.000019</td>\n",
       "      <td>-0.000014</td>\n",
       "      <td>-9.397004e-06</td>\n",
       "      <td>0.000013</td>\n",
       "      <td>-2.432375e-11</td>\n",
       "      <td>-3.678064e-15</td>\n",
       "      <td>-2.355996e-25</td>\n",
       "      <td>-4.478749e-30</td>\n",
       "      <td>-1.776159e-41</td>\n",
       "    </tr>\n",
       "    <tr>\n",
       "      <th>1</th>\n",
       "      <td>0.114930</td>\n",
       "      <td>0.923622</td>\n",
       "      <td>0.818859</td>\n",
       "      <td>-0.451247</td>\n",
       "      <td>-0.850479</td>\n",
       "      <td>-0.629650</td>\n",
       "      <td>-2.294974</td>\n",
       "      <td>-3.828819</td>\n",
       "      <td>-6.408956</td>\n",
       "      <td>-1.888401</td>\n",
       "      <td>...</td>\n",
       "      <td>-0.000011</td>\n",
       "      <td>-0.000013</td>\n",
       "      <td>-0.000009</td>\n",
       "      <td>-6.042534e-06</td>\n",
       "      <td>0.000020</td>\n",
       "      <td>-9.927329e-10</td>\n",
       "      <td>-1.052206e-13</td>\n",
       "      <td>-1.771593e-18</td>\n",
       "      <td>-5.191938e-24</td>\n",
       "      <td>-1.148449e-32</td>\n",
       "    </tr>\n",
       "    <tr>\n",
       "      <th>2</th>\n",
       "      <td>-0.688917</td>\n",
       "      <td>0.485580</td>\n",
       "      <td>0.132802</td>\n",
       "      <td>-0.062035</td>\n",
       "      <td>0.334348</td>\n",
       "      <td>-0.566224</td>\n",
       "      <td>-1.025435</td>\n",
       "      <td>-4.382572</td>\n",
       "      <td>-6.921966</td>\n",
       "      <td>-5.125395</td>\n",
       "      <td>...</td>\n",
       "      <td>-0.000013</td>\n",
       "      <td>-0.000003</td>\n",
       "      <td>-0.000013</td>\n",
       "      <td>-9.144631e-06</td>\n",
       "      <td>0.000006</td>\n",
       "      <td>-2.531431e-07</td>\n",
       "      <td>-8.507036e-12</td>\n",
       "      <td>-3.278339e-16</td>\n",
       "      <td>-6.506346e-21</td>\n",
       "      <td>-1.148450e-32</td>\n",
       "    </tr>\n",
       "    <tr>\n",
       "      <th>3</th>\n",
       "      <td>-1.649230</td>\n",
       "      <td>-5.611102</td>\n",
       "      <td>-2.145864</td>\n",
       "      <td>-0.097331</td>\n",
       "      <td>0.422657</td>\n",
       "      <td>0.194806</td>\n",
       "      <td>-0.835998</td>\n",
       "      <td>-3.605635</td>\n",
       "      <td>-7.447397</td>\n",
       "      <td>-4.992517</td>\n",
       "      <td>...</td>\n",
       "      <td>0.000002</td>\n",
       "      <td>-0.000001</td>\n",
       "      <td>-0.000008</td>\n",
       "      <td>-7.655602e-07</td>\n",
       "      <td>0.000015</td>\n",
       "      <td>-2.521747e-07</td>\n",
       "      <td>-8.405494e-12</td>\n",
       "      <td>-3.260624e-16</td>\n",
       "      <td>-6.501154e-21</td>\n",
       "      <td>-2.944418e-33</td>\n",
       "    </tr>\n",
       "    <tr>\n",
       "      <th>4</th>\n",
       "      <td>2.277616</td>\n",
       "      <td>1.996909</td>\n",
       "      <td>-4.500249</td>\n",
       "      <td>-7.907377</td>\n",
       "      <td>-4.757239</td>\n",
       "      <td>-2.838343</td>\n",
       "      <td>-3.599263</td>\n",
       "      <td>-4.576428</td>\n",
       "      <td>-7.393138</td>\n",
       "      <td>-3.319265</td>\n",
       "      <td>...</td>\n",
       "      <td>0.000009</td>\n",
       "      <td>-0.000014</td>\n",
       "      <td>-0.000013</td>\n",
       "      <td>-4.648051e-06</td>\n",
       "      <td>0.000018</td>\n",
       "      <td>-2.121629e-08</td>\n",
       "      <td>-8.748194e-16</td>\n",
       "      <td>-1.923240e-20</td>\n",
       "      <td>-2.573848e-25</td>\n",
       "      <td>-2.944405e-33</td>\n",
       "    </tr>\n",
       "  </tbody>\n",
       "</table>\n",
       "<p>5 rows × 68 columns</p>\n",
       "</div>"
      ],
      "text/plain": [
       "         Q1                                                              \\\n",
       "         0         1         2         3         4         5         6    \n",
       "0  1.248608  1.495984  1.451336  1.168046  0.570157 -0.048394 -3.044226   \n",
       "1  0.114930  0.923622  0.818859 -0.451247 -0.850479 -0.629650 -2.294974   \n",
       "2 -0.688917  0.485580  0.132802 -0.062035  0.334348 -0.566224 -1.025435   \n",
       "3 -1.649230 -5.611102 -2.145864 -0.097331  0.422657  0.194806 -0.835998   \n",
       "4  2.277616  1.996909 -4.500249 -7.907377 -4.757239 -2.838343 -3.599263   \n",
       "\n",
       "                                     ...             Q2                      \\\n",
       "         7         8         9       ...             24        25        26   \n",
       "0 -4.969207 -2.731678  0.010295      ...      -0.000018 -0.000019 -0.000014   \n",
       "1 -3.828819 -6.408956 -1.888401      ...      -0.000011 -0.000013 -0.000009   \n",
       "2 -4.382572 -6.921966 -5.125395      ...      -0.000013 -0.000003 -0.000013   \n",
       "3 -3.605635 -7.447397 -4.992517      ...       0.000002 -0.000001 -0.000008   \n",
       "4 -4.576428 -7.393138 -3.319265      ...       0.000009 -0.000014 -0.000013   \n",
       "\n",
       "                                                                     \\\n",
       "             27        28            29            30            31   \n",
       "0 -9.397004e-06  0.000013 -2.432375e-11 -3.678064e-15 -2.355996e-25   \n",
       "1 -6.042534e-06  0.000020 -9.927329e-10 -1.052206e-13 -1.771593e-18   \n",
       "2 -9.144631e-06  0.000006 -2.531431e-07 -8.507036e-12 -3.278339e-16   \n",
       "3 -7.655602e-07  0.000015 -2.521747e-07 -8.405494e-12 -3.260624e-16   \n",
       "4 -4.648051e-06  0.000018 -2.121629e-08 -8.748194e-16 -1.923240e-20   \n",
       "\n",
       "                               \n",
       "             32            33  \n",
       "0 -4.478749e-30 -1.776159e-41  \n",
       "1 -5.191938e-24 -1.148449e-32  \n",
       "2 -6.506346e-21 -1.148450e-32  \n",
       "3 -6.501154e-21 -2.944418e-33  \n",
       "4 -2.573848e-25 -2.944405e-33  \n",
       "\n",
       "[5 rows x 68 columns]"
      ]
     },
     "execution_count": 265,
     "metadata": {},
     "output_type": "execute_result"
    }
   ],
   "source": [
    "prep_out.head()"
   ]
  },
  {
   "cell_type": "code",
   "execution_count": 266,
   "metadata": {},
   "outputs": [
    {
     "data": {
      "text/plain": [
       "204480"
      ]
     },
     "execution_count": 266,
     "metadata": {},
     "output_type": "execute_result"
    }
   ],
   "source": [
    "len(prep_out)"
   ]
  },
  {
   "cell_type": "markdown",
   "metadata": {},
   "source": [
    "## Understand the loss"
   ]
  },
  {
   "cell_type": "code",
   "execution_count": 307,
   "metadata": {},
   "outputs": [],
   "source": [
    "src = m(batch.data)"
   ]
  },
  {
   "cell_type": "code",
   "execution_count": 301,
   "metadata": {},
   "outputs": [
    {
     "data": {
      "text/plain": [
       "dict_keys(['QT', 'SLI'])"
      ]
     },
     "execution_count": 301,
     "metadata": {},
     "output_type": "execute_result"
    }
   ],
   "source": [
    "src.data.keys()"
   ]
  },
  {
   "cell_type": "code",
   "execution_count": 291,
   "metadata": {},
   "outputs": [],
   "source": [
    "g = batch.get_known_forcings()   # This gets FQT and FSLI"
   ]
  },
  {
   "cell_type": "code",
   "execution_count": 292,
   "metadata": {},
   "outputs": [
    {
     "data": {
      "text/plain": [
       "dict_keys(['QT', 'SLI'])"
      ]
     },
     "execution_count": 292,
     "metadata": {},
     "output_type": "execute_result"
    }
   ],
   "source": [
    "g.data.keys()"
   ]
  },
  {
   "cell_type": "code",
   "execution_count": 289,
   "metadata": {},
   "outputs": [
    {
     "data": {
      "text/plain": [
       "['QT', 'SLI']"
      ]
     },
     "execution_count": 289,
     "metadata": {},
     "output_type": "execute_result"
    }
   ],
   "source": [
    "batch.prognostics"
   ]
  },
  {
   "cell_type": "code",
   "execution_count": 293,
   "metadata": {},
   "outputs": [],
   "source": [
    "progs = batch.get_prognostics()   # This simply gets QT and SLI"
   ]
  },
  {
   "cell_type": "code",
   "execution_count": 295,
   "metadata": {},
   "outputs": [
    {
     "data": {
      "text/plain": [
       "torch.Size([256, 640, 34, 1, 1])"
      ]
     },
     "execution_count": 295,
     "metadata": {},
     "output_type": "execute_result"
    }
   ],
   "source": [
    "progs['QT'].size()"
   ]
  },
  {
   "cell_type": "code",
   "execution_count": 297,
   "metadata": {},
   "outputs": [],
   "source": [
    "forcing = g.apply(lambda x: (x[:,1:] + x[:,:-1]) / 2)   # mean forcing"
   ]
  },
  {
   "cell_type": "code",
   "execution_count": 298,
   "metadata": {},
   "outputs": [],
   "source": [
    "x0 = progs.apply(lambda x: x[:,:-1])   # from start to -1"
   ]
  },
  {
   "cell_type": "code",
   "execution_count": 299,
   "metadata": {},
   "outputs": [],
   "source": [
    "x1 = progs.apply(lambda x: x[:,1:])   # One time step later"
   ]
  },
  {
   "cell_type": "code",
   "execution_count": 308,
   "metadata": {},
   "outputs": [],
   "source": [
    "src = src.apply(lambda x: x[:,:-1])   # Predictions for one time step later, I think this is Q1 and Q2"
   ]
  },
  {
   "cell_type": "code",
   "execution_count": 304,
   "metadata": {},
   "outputs": [],
   "source": [
    "dt = 0.125"
   ]
  },
  {
   "cell_type": "code",
   "execution_count": 305,
   "metadata": {},
   "outputs": [],
   "source": [
    "pred = x0 + dt * src + dt * 86400 * forcing   # x_now + subgrid (NN pred) + adv forcing"
   ]
  },
  {
   "cell_type": "code",
   "execution_count": 309,
   "metadata": {},
   "outputs": [
    {
     "data": {
      "text/plain": [
       "'Compute the weighted mean squared error\\n\\n    Parameters\\n    ----------\\n    truth: torch.tensor\\n    prediction: torch.tensor\\n    weights: torch.tensor\\n        one dimensional tensor of weights. Must be the same length as the truth\\n        and prediction arrays along the dimension `dim`\\n    dim:\\n        the dimension the data should be weighted along\\n    '"
      ]
     },
     "execution_count": 309,
     "metadata": {},
     "output_type": "execute_result"
    }
   ],
   "source": [
    "criterion = weighted_mean_squared_error(weights=trn.mass / trn.mass.mean(), dim=-3)\n",
    "\"\"\"Compute the weighted mean squared error\n",
    "\n",
    "    Parameters\n",
    "    ----------\n",
    "    truth: torch.tensor\n",
    "    prediction: torch.tensor\n",
    "    weights: torch.tensor\n",
    "        one dimensional tensor of weights. Must be the same length as the truth\n",
    "        and prediction arrays along the dimension `dim`\n",
    "    dim:\n",
    "        the dimension the data should be weighted along\n",
    "    \"\"\""
   ]
  },
  {
   "cell_type": "code",
   "execution_count": 312,
   "metadata": {},
   "outputs": [],
   "source": [
    "from uwnet.loss import *"
   ]
  },
  {
   "cell_type": "code",
   "execution_count": 314,
   "metadata": {},
   "outputs": [],
   "source": [
    "l1 = compute_loss(criterion, x1, pred) / dt   # This simply applies the criterion to QT and SLI separately\n",
    "# So this is a simple MSE between the predicted QT and SLI and the actual one one time step ahead."
   ]
  },
  {
   "cell_type": "code",
   "execution_count": 315,
   "metadata": {},
   "outputs": [
    {
     "data": {
      "text/plain": [
       "tensor(2.3773, grad_fn=<DivBackward0>)"
      ]
     },
     "execution_count": 315,
     "metadata": {},
     "output_type": "execute_result"
    }
   ],
   "source": [
    "l1"
   ]
  },
  {
   "cell_type": "code",
   "execution_count": 317,
   "metadata": {},
   "outputs": [],
   "source": [
    "l2 = equilibrium_penalty(criterion, m, batch, dt)"
   ]
  },
  {
   "cell_type": "code",
   "execution_count": 318,
   "metadata": {},
   "outputs": [],
   "source": [
    "from random import randint\n",
    "i = randint(0, batch.num_time - 1)"
   ]
  },
  {
   "cell_type": "code",
   "execution_count": 319,
   "metadata": {},
   "outputs": [
    {
     "data": {
      "text/plain": [
       "413"
      ]
     },
     "execution_count": 319,
     "metadata": {},
     "output_type": "execute_result"
    }
   ],
   "source": [
    "i"
   ]
  },
  {
   "cell_type": "code",
   "execution_count": 320,
   "metadata": {},
   "outputs": [],
   "source": [
    "state0 = batch.get_prognostics_at_time(i)"
   ]
  },
  {
   "cell_type": "code",
   "execution_count": 323,
   "metadata": {},
   "outputs": [
    {
     "data": {
      "text/plain": [
       "dict_keys(['QT', 'SLI'])"
      ]
     },
     "execution_count": 323,
     "metadata": {},
     "output_type": "execute_result"
    }
   ],
   "source": [
    "state0.data.keys()"
   ]
  },
  {
   "cell_type": "code",
   "execution_count": 326,
   "metadata": {},
   "outputs": [
    {
     "data": {
      "text/plain": [
       "torch.Size([256, 34, 1, 1])"
      ]
     },
     "execution_count": 326,
     "metadata": {},
     "output_type": "execute_result"
    }
   ],
   "source": [
    "state0['QT'].size()   # Single time step but for a batch of xy"
   ]
  },
  {
   "cell_type": "code",
   "execution_count": 330,
   "metadata": {},
   "outputs": [],
   "source": [
    "mean = batch.get_prognostics().apply(lambda x: x.mean(dim=1))   # Mean over the time dimension"
   ]
  },
  {
   "cell_type": "code",
   "execution_count": 331,
   "metadata": {},
   "outputs": [
    {
     "data": {
      "text/plain": [
       "torch.Size([256, 34, 1, 1])"
      ]
     },
     "execution_count": 331,
     "metadata": {},
     "output_type": "execute_result"
    }
   ],
   "source": [
    "mean['QT'].size()"
   ]
  },
  {
   "cell_type": "code",
   "execution_count": 332,
   "metadata": {},
   "outputs": [],
   "source": [
    "g = batch.get_known_forcings()"
   ]
  },
  {
   "cell_type": "code",
   "execution_count": 333,
   "metadata": {},
   "outputs": [],
   "source": [
    "mean_forcing = g.apply(lambda x: x.mean(dim=1))   # Time mean forcing"
   ]
  },
  {
   "cell_type": "code",
   "execution_count": 334,
   "metadata": {},
   "outputs": [],
   "source": [
    "state = state0"
   ]
  },
  {
   "cell_type": "code",
   "execution_count": 335,
   "metadata": {},
   "outputs": [],
   "source": [
    "n = 20"
   ]
  },
  {
   "cell_type": "code",
   "execution_count": 337,
   "metadata": {},
   "outputs": [],
   "source": [
    "t=0"
   ]
  },
  {
   "cell_type": "code",
   "execution_count": 342,
   "metadata": {},
   "outputs": [],
   "source": [
    "inputs = batch.get_model_inputs(i, state)   # These are the inputs at time step i"
   ]
  },
  {
   "cell_type": "code",
   "execution_count": 350,
   "metadata": {},
   "outputs": [
    {
     "data": {
      "text/plain": [
       "dict_keys(['LHF', 'FV', 'SHF', 'QV', 'U', 'W', 'RADSFC', 'FU', 'Prec', 'SOLIN', 'PP', 'FQT', 'TABS', 'RADTOA', 'V', 'SST', 'FSLI', 'QT', 'SLI'])"
      ]
     },
     "execution_count": 350,
     "metadata": {},
     "output_type": "execute_result"
    }
   ],
   "source": [
    "inputs.data.keys()"
   ]
  },
  {
   "cell_type": "code",
   "execution_count": 341,
   "metadata": {},
   "outputs": [
    {
     "data": {
      "text/plain": [
       "torch.Size([256, 34, 1, 1])"
      ]
     },
     "execution_count": 341,
     "metadata": {},
     "output_type": "execute_result"
    }
   ],
   "source": [
    "inputs['QT'].size()"
   ]
  },
  {
   "cell_type": "code",
   "execution_count": 344,
   "metadata": {},
   "outputs": [],
   "source": [
    "src = m(inputs)"
   ]
  },
  {
   "cell_type": "code",
   "execution_count": 345,
   "metadata": {},
   "outputs": [],
   "source": [
    "state = state + dt * src + dt * mean_forcing * 86400   # Predict ahead one time step applying the time mean forcing"
   ]
  },
  {
   "cell_type": "code",
   "execution_count": 346,
   "metadata": {},
   "outputs": [],
   "source": [
    "for t in range(n):\n",
    "    inputs = batch.get_model_inputs(i, state)\n",
    "    src = m(inputs)\n",
    "    state = state + dt * src + dt * mean_forcing * 86400"
   ]
  },
  {
   "cell_type": "code",
   "execution_count": 347,
   "metadata": {},
   "outputs": [
    {
     "data": {
      "text/plain": [
       "tensor(10.4400, grad_fn=<AddBackward0>)"
      ]
     },
     "execution_count": 347,
     "metadata": {},
     "output_type": "execute_result"
    }
   ],
   "source": [
    "compute_loss(criterion, mean, state)   \n",
    "# compute the loss between a 20 time step prediction started from a random state with time average forcings and the time mean state!?"
   ]
  },
  {
   "cell_type": "code",
   "execution_count": 348,
   "metadata": {},
   "outputs": [],
   "source": [
    "loss = l1 + l2 * .1"
   ]
  },
  {
   "cell_type": "code",
   "execution_count": null,
   "metadata": {},
   "outputs": [],
   "source": []
  }
 ],
 "metadata": {
  "kernelspec": {
   "display_name": "Python 3",
   "language": "python",
   "name": "python3"
  },
  "language_info": {
   "codemirror_mode": {
    "name": "ipython",
    "version": 3
   },
   "file_extension": ".py",
   "mimetype": "text/x-python",
   "name": "python",
   "nbconvert_exporter": "python",
   "pygments_lexer": "ipython3",
   "version": "3.6.7"
  },
  "toc-autonumbering": true,
  "toc-showcode": false,
  "toc-showtags": false
 },
 "nbformat": 4,
 "nbformat_minor": 2
}
